{
 "cells": [
  {
   "cell_type": "code",
   "execution_count": 26,
   "metadata": {},
   "outputs": [],
   "source": [
    "%matplotlib inline\n",
    "\n",
    "import numpy.random as npr\n",
    "import math\n",
    "import matplotlib.pyplot as plt\n",
    "\n",
    "from tqdm import tqdm"
   ]
  },
  {
   "cell_type": "code",
   "execution_count": 33,
   "metadata": {},
   "outputs": [
    {
     "data": {
      "text/plain": [
       "<module 'policy' from '/home/hofmann/nngame/package/src/rlbase/policy.py'>"
      ]
     },
     "execution_count": 33,
     "metadata": {},
     "output_type": "execute_result"
    }
   ],
   "source": [
    "import sys\n",
    "sys.path.append(\"/home/hofmann/nngame/package/src/rlbase/\")\n",
    "from importlib import reload\n",
    "\n",
    "import env_gridworld\n",
    "import misc\n",
    "import policy\n",
    "reload(env_gridworld)\n",
    "reload(env_gridworld)\n",
    "reload(misc)\n",
    "reload(policy)"
   ]
  },
  {
   "cell_type": "markdown",
   "metadata": {},
   "source": [
    "# Example 3.5\n",
    "Gridworld"
   ]
  },
  {
   "cell_type": "code",
   "execution_count": 34,
   "metadata": {},
   "outputs": [
    {
     "name": "stdout",
     "output_type": "stream",
     "text": [
      "Iteration 0\n",
      "----  ----  ----  ----  ----\n",
      " 3.3   8.8   4.4   5.3   1.5\n",
      " 1.5   3     2.3   1.9   0.5\n",
      " 0.1   0.7   0.7   0.4  -0.4\n",
      "-1    -0.4  -0.4  -0.6  -1.2\n",
      "-1.9  -1.3  -1.2  -1.4  -2\n",
      "----  ----  ----  ----  ----\n",
      "-  ----  -  ----  -\n",
      "r  uldr  l  uldr  l\n",
      "u  u     u  u     l\n",
      "u  u     u  u     u\n",
      "u  u     u  u     u\n",
      "u  u     u  u     u\n",
      "-  ----  -  ----  -\n",
      "Iteration 1\n",
      "----  ----  ----  ----  ----\n",
      "22    24.4  22    18.5  16.6\n",
      "19.8  22    19.8  16.6  14.9\n",
      "17.8  19.8  17.8  14.9  13.5\n",
      "16    17.8  16    13.5  12.1\n",
      "14.4  16    14.4  12.1  10.9\n",
      "----  ----  ----  ----  ----\n",
      "--  ----  --  ----  --\n",
      "r   uldr  l   uldr  l\n",
      "ur  u     ul  l     ul\n",
      "ur  u     ul  l     ul\n",
      "ur  u     ul  l     ul\n",
      "ur  u     ul  l     ul\n",
      "--  ----  --  ----  --\n",
      "Iteration 2\n",
      "----  ----  ----  ----  ----\n",
      "22    24.4  22    19.4  17.5\n",
      "19.8  22    19.8  17.8  15.9\n",
      "17.8  19.8  17.8  16    14.4\n",
      "16    17.8  16    14.4  12.9\n",
      "14.4  16    14.4  13    11.7\n",
      "----  ----  ----  ----  ----\n",
      "--  ----  --  ----  -\n",
      "r   uldr  l   uldr  l\n",
      "ur  u     ul  l     l\n",
      "ur  u     ul  ul    l\n",
      "ur  u     ul  ul    l\n",
      "ur  u     ul  ul    l\n",
      "--  ----  --  ----  -\n",
      "Iteration 3\n",
      "----  ----  ----  ----  ----\n",
      "22    24.4  22    19.4  17.5\n",
      "19.8  22    19.8  17.8  16\n",
      "17.8  19.8  17.8  16    14.4\n",
      "16    17.8  16    14.4  13\n",
      "14.4  16    14.4  13    11.7\n",
      "----  ----  ----  ----  ----\n",
      "--  ----  --  ----  --\n",
      "r   uldr  l   uldr  l\n",
      "ur  u     ul  l     l\n",
      "ur  u     ul  ul    ul\n",
      "ur  u     ul  ul    ul\n",
      "ur  u     ul  ul    ul\n",
      "--  ----  --  ----  --\n",
      "Iteration 4\n",
      "----  ----  ----  ----  ----\n",
      "22    24.4  22    19.4  17.5\n",
      "19.8  22    19.8  17.8  16\n",
      "17.8  19.8  17.8  16    14.4\n",
      "16    17.8  16    14.4  13\n",
      "14.4  16    14.4  13    11.7\n",
      "----  ----  ----  ----  ----\n",
      "--  ----  --  ----  --\n",
      "r   uldr  l   uldr  l\n",
      "ur  u     ul  l     l\n",
      "ur  u     ul  ul    ul\n",
      "ur  u     ul  ul    ul\n",
      "ur  u     ul  ul    ul\n",
      "--  ----  --  ----  --\n"
     ]
    }
   ],
   "source": [
    "env = env_gridworld.GridworldEx35Environment()\n",
    "\n",
    "pi = policy.UniformPolicy(env=env)\n",
    "\n",
    "gamma = 0.9\n",
    "\n",
    "for it in range(5):\n",
    "  print(\"Iteration\",it)\n",
    "  value, _ = misc.evaluate_policy_iterative(env,pi,gamma,tol=1e-5)\n",
    "  env.plot(value)\n",
    "  pi = misc.improve_policy_from_value_function(env,value,gamma)\n",
    "  env.plot_bestaction_policy(pi)\n",
    "  "
   ]
  },
  {
   "cell_type": "code",
   "execution_count": null,
   "metadata": {},
   "outputs": [],
   "source": []
  }
 ],
 "metadata": {
  "kernelspec": {
   "display_name": "Python 3",
   "language": "python",
   "name": "python3"
  },
  "language_info": {
   "codemirror_mode": {
    "name": "ipython",
    "version": 3
   },
   "file_extension": ".py",
   "mimetype": "text/x-python",
   "name": "python",
   "nbconvert_exporter": "python",
   "pygments_lexer": "ipython3",
   "version": "3.7.9"
  }
 },
 "nbformat": 4,
 "nbformat_minor": 4
}
