{
 "cells": [
  {
   "cell_type": "code",
   "execution_count": 66,
   "metadata": {},
   "outputs": [],
   "source": [
    "%matplotlib inline\n",
    "\n",
    "import numpy.random as npr\n",
    "import math\n",
    "import matplotlib.pyplot as plt\n",
    "\n",
    "from tqdm import tqdm"
   ]
  },
  {
   "cell_type": "code",
   "execution_count": 67,
   "metadata": {},
   "outputs": [
    {
     "data": {
      "text/plain": [
       "<module 'misc' from '/home/hofmann/nngame/package/src/rlbase/misc.py'>"
      ]
     },
     "execution_count": 67,
     "metadata": {},
     "output_type": "execute_result"
    }
   ],
   "source": [
    "import sys\n",
    "sys.path.append(\"/home/hofmann/nngame/package/src/rlbase/\")\n",
    "from importlib import reload\n",
    "\n",
    "import env_gridworld\n",
    "import misc\n",
    "import policy\n",
    "reload(policy)\n",
    "reload(env_gridworld)\n",
    "\n",
    "import numpy as np\n",
    "import tabulate as tb\n",
    "import misc\n",
    "reload(misc)"
   ]
  },
  {
   "cell_type": "markdown",
   "metadata": {},
   "source": [
    "# Figure 4.1"
   ]
  },
  {
   "cell_type": "code",
   "execution_count": 68,
   "metadata": {},
   "outputs": [
    {
     "name": "stdout",
     "output_type": "stream",
     "text": [
      "Iteration:  1\n",
      "--  --  --  --\n",
      " 0  -1  -1  -1\n",
      "-1  -1  -1  -1\n",
      "-1  -1  -1  -1\n",
      "-1  -1  -1   0\n",
      "--  --  --  --\n",
      "\n",
      "Iteration:  2\n",
      "----  ----  ----  ----\n",
      " 0    -1.8  -2    -2\n",
      "-1.8  -2    -2    -2\n",
      "-2    -2    -2    -1.8\n",
      "-2    -2    -1.8   0\n",
      "----  ----  ----  ----\n",
      "\n",
      "Iteration:  3\n",
      "----  ----  ----  ----\n",
      " 0    -2.4  -2.9  -3\n",
      "-2.4  -2.9  -3    -2.9\n",
      "-2.9  -3    -2.9  -2.4\n",
      "-3    -2.9  -2.4   0\n",
      "----  ----  ----  ----\n",
      "\n",
      "Iteration:  10\n",
      "----  ----  ----  ----\n",
      " 0    -6.1  -8.4  -9\n",
      "-6.1  -7.7  -8.4  -8.4\n",
      "-8.4  -8.4  -7.7  -6.1\n",
      "-9    -8.4  -6.1   0\n",
      "----  ----  ----  ----\n",
      "\n",
      "Iteration:  425\n",
      "---  ---  ---  ---\n",
      "  0  -14  -20  -22\n",
      "-14  -18  -20  -20\n",
      "-20  -20  -18  -14\n",
      "-22  -20  -14    0\n",
      "---  ---  ---  ---\n",
      "\n"
     ]
    }
   ],
   "source": [
    "# Gridworld\n",
    "env = env_gridworld.GridworldEx41Environment()\n",
    "\n",
    "pi = policy.UniformPolicy(env.states,env.actions)\n",
    "\n",
    "_, arr_v = misc.evaluate_policy_iterative(env,pi)\n",
    "\n",
    "for (i,x) in enumerate(arr_v):\n",
    "  if i in [1,2,3,10,425]:\n",
    "    print(\"Iteration: \",i)\n",
    "    env.pretty_print(env.reshape(x))"
   ]
  },
  {
   "cell_type": "markdown",
   "metadata": {},
   "source": [
    "# Exercise 4.1\n",
    "Calculate the q-values for (s,a)=((3,1),\"down\") and (s,a)=((3,2),\"down\")"
   ]
  },
  {
   "cell_type": "code",
   "execution_count": 69,
   "metadata": {},
   "outputs": [
    {
     "name": "stdout",
     "output_type": "stream",
     "text": [
      "q((3,1),\"down\") -1.0\n",
      "q((3,2),\"down\") -15.0\n"
     ]
    }
   ],
   "source": [
    "q = misc.get_action_value_function(env,arr_v[-1])\n",
    "print('q((3,1),\"down\")',round(q((3,1),\"down\"),1))\n",
    "print('q((3,2),\"down\")',round(q((3,2),\"down\"),1))"
   ]
  },
  {
   "cell_type": "code",
   "execution_count": 10,
   "metadata": {},
   "outputs": [
    {
     "ename": "AttributeError",
     "evalue": "module 'misc' has no attribute 'evaluate_policy_linear_system'",
     "output_type": "error",
     "traceback": [
      "\u001b[0;31m---------------------------------------------------------------------------\u001b[0m",
      "\u001b[0;31mAttributeError\u001b[0m                            Traceback (most recent call last)",
      "\u001b[0;32m<ipython-input-10-8909ad47d32a>\u001b[0m in \u001b[0;36m<module>\u001b[0;34m\u001b[0m\n\u001b[1;32m     17\u001b[0m   \u001b[0;32mreturn\u001b[0m \u001b[0;36m1\u001b[0m \u001b[0;34m/\u001b[0m \u001b[0mlen\u001b[0m\u001b[0;34m(\u001b[0m\u001b[0mactions\u001b[0m\u001b[0;34m)\u001b[0m\u001b[0;34m\u001b[0m\u001b[0;34m\u001b[0m\u001b[0m\n\u001b[1;32m     18\u001b[0m \u001b[0;34m\u001b[0m\u001b[0m\n\u001b[0;32m---> 19\u001b[0;31m \u001b[0mv\u001b[0m \u001b[0;34m=\u001b[0m \u001b[0mmisc\u001b[0m\u001b[0;34m.\u001b[0m\u001b[0mevaluate_policy_linear_system\u001b[0m\u001b[0;34m(\u001b[0m\u001b[0mstates\u001b[0m\u001b[0;34m,\u001b[0m\u001b[0mactions\u001b[0m\u001b[0;34m,\u001b[0m\u001b[0mrewards\u001b[0m\u001b[0;34m,\u001b[0m\u001b[0mstate_transition\u001b[0m\u001b[0;34m,\u001b[0m\u001b[0mpolicy\u001b[0m\u001b[0;34m,\u001b[0m\u001b[0mgamma\u001b[0m\u001b[0;34m,\u001b[0m\u001b[0mterminal_states\u001b[0m\u001b[0;34m)\u001b[0m\u001b[0;34m\u001b[0m\u001b[0;34m\u001b[0m\u001b[0m\n\u001b[0m\u001b[1;32m     20\u001b[0m \u001b[0m_\u001b[0m\u001b[0;34m,\u001b[0m \u001b[0marr_v\u001b[0m \u001b[0;34m=\u001b[0m \u001b[0mrl_functions\u001b[0m\u001b[0;34m.\u001b[0m\u001b[0mevaluate_policy_iterative\u001b[0m\u001b[0;34m(\u001b[0m\u001b[0mstates\u001b[0m\u001b[0;34m,\u001b[0m\u001b[0mactions\u001b[0m\u001b[0;34m,\u001b[0m\u001b[0mrewards\u001b[0m\u001b[0;34m,\u001b[0m\u001b[0mstate_transition\u001b[0m\u001b[0;34m,\u001b[0m\u001b[0mpolicy\u001b[0m\u001b[0;34m,\u001b[0m\u001b[0mgamma\u001b[0m\u001b[0;34m)\u001b[0m\u001b[0;34m\u001b[0m\u001b[0;34m\u001b[0m\u001b[0m\n\u001b[1;32m     21\u001b[0m \u001b[0;34m\u001b[0m\u001b[0m\n",
      "\u001b[0;31mAttributeError\u001b[0m: module 'misc' has no attribute 'evaluate_policy_linear_system'"
     ]
    }
   ],
   "source": [
    "improved_policy = rl_functions.improve_policy_from_value_function(states,actions,rewards,state_transition,v,gamma)\n",
    "v = rl_functions.evaluate_policy_linear_system(states,actions,rewards,state_transition,improved_policy,gamma,terminal_states)\n",
    "\n",
    "print(tb.tabulate(np.round(np.array(v.tolist()+[v[0]]).reshape((4,4)),1)))\n",
    "improved_policy = rl_functions.improve_policy_from_value_function(states,actions,rewards,state_transition,v,gamma)\n",
    "\n",
    "tmp = [\"\"]*15\n",
    "for s in states:\n",
    "  for a in actions:\n",
    "    if improved_policy(a,s)>0:\n",
    "      tmp[s] += a[0]\n",
    "print(tb.tabulate(np.array(tmp+[tmp[0]]).reshape((4,4))))"
   ]
  },
  {
   "cell_type": "code",
   "execution_count": null,
   "metadata": {},
   "outputs": [],
   "source": [
    "import rl_functions\n",
    "import numpy as np\n",
    "import matplotlib.pyplot as plt\n",
    "\n",
    "\n",
    "# Discount parameter\n",
    "gamma = 0.9\n",
    "    \n",
    "def policy(a,s):\n",
    "  return (a==0)\n",
    "\n",
    "# Evaluate policy and visualize value function\n",
    "v = rl_functions.evaluate_policy_linear_system_two_arg(states,actions,state_transition,policy,gamma)\n",
    "plt.imshow(v.reshape(nmax+1,nmax+1), cmap='hot', interpolation='nearest',origin='lower')\n",
    "plt.show()\n",
    "\n",
    "# Improve policy and visualize policy function\n",
    "pol1 = rl_functions.improve_policy_from_value_function_two_arg(states, actions, state_transition, v, gamma)\n",
    "arr = np.zeros((nmax+1,nmax+1))\n",
    "for i in range(nmax+1):\n",
    "  for j in range(nmax+1):\n",
    "    most_probable = 0\n",
    "    for a in actions:\n",
    "      if pol1(a,(i,j)) > most_probable:\n",
    "        arr[i,j] = a\n",
    "        most_probable = pol1(a,(i,j))\n",
    "plt.imshow(arr,origin=\"lower\")\n",
    "plt.colorbar()\n"
   ]
  }
 ],
 "metadata": {
  "kernelspec": {
   "display_name": "Python 3",
   "language": "python",
   "name": "python3"
  },
  "language_info": {
   "codemirror_mode": {
    "name": "ipython",
    "version": 3
   },
   "file_extension": ".py",
   "mimetype": "text/x-python",
   "name": "python",
   "nbconvert_exporter": "python",
   "pygments_lexer": "ipython3",
   "version": "3.7.9"
  }
 },
 "nbformat": 4,
 "nbformat_minor": 4
}
