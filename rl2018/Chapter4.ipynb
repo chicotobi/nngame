{
 "cells": [
  {
   "cell_type": "code",
   "execution_count": null,
   "metadata": {},
   "outputs": [],
   "source": [
    "%matplotlib inline\n",
    "\n",
    "import numpy as np\n",
    "import numpy.random as npr\n",
    "import tabulate as tb\n",
    "import math\n",
    "import matplotlib.pyplot as plt\n",
    "\n",
    "from tqdm import tqdm"
   ]
  },
  {
   "cell_type": "code",
   "execution_count": null,
   "metadata": {},
   "outputs": [],
   "source": [
    "import sys\n",
    "sys.path.append(\"/home/hofmann/nngame/package/src/rlbase/\")\n",
    "\n",
    "import env_gridworld, env_car_rental, env_gambler\n",
    "import misc\n",
    "import policy"
   ]
  },
  {
   "cell_type": "markdown",
   "metadata": {},
   "source": [
    "# Figure 4.1"
   ]
  },
  {
   "cell_type": "code",
   "execution_count": null,
   "metadata": {},
   "outputs": [],
   "source": [
    "env = env_gridworld.GridworldEx41Environment()\n",
    "\n",
    "pi = policy.UniformPolicy(env=env)\n",
    "\n",
    "v, arr_v = misc.evaluate_policy_iterative(env,pi)\n",
    "\n",
    "for (i,x) in enumerate(arr_v):\n",
    "  if i in [1,2,3,10,425]:\n",
    "    print(\"Iteration: \",i)\n",
    "    env.pretty_print(env.reshape(x))"
   ]
  },
  {
   "cell_type": "markdown",
   "metadata": {},
   "source": [
    "# Exercise 4.1\n",
    "Calculate the q-values for (s,a)=((3,1),\"down\") and (s,a)=((3,2),\"down\")"
   ]
  },
  {
   "cell_type": "code",
   "execution_count": null,
   "metadata": {},
   "outputs": [],
   "source": [
    "q = misc.get_action_value_function(env,arr_v[-1])\n",
    "print('q((3,1),\"down\")',round(q((3,1),\"down\"),1))\n",
    "print('q((3,2),\"down\")',round(q((3,2),\"down\"),1))"
   ]
  },
  {
   "cell_type": "code",
   "execution_count": null,
   "metadata": {},
   "outputs": [],
   "source": [
    "improved_policy = misc.improve_policy_from_value_function(env,v)\n",
    "env.plot_bestaction_policy(improved_policy)\n",
    "v = misc.evaluate_policy_linear_system(env,improved_policy)\n",
    "env.pretty_print(env.reshape(v))\n",
    "\n",
    "improved_policy = misc.improve_policy_from_value_function(env,v)\n",
    "env.plot_bestaction_policy(improved_policy)\n",
    "v = misc.evaluate_policy_linear_system(env,improved_policy)\n",
    "env.pretty_print(env.reshape(v))\n"
   ]
  },
  {
   "cell_type": "markdown",
   "metadata": {},
   "source": [
    "# Example 4.2\n",
    "\n",
    "Jack's Car Rental"
   ]
  },
  {
   "cell_type": "code",
   "execution_count": null,
   "metadata": {},
   "outputs": [],
   "source": [
    "gamma = 0.9\n",
    "\n",
    "env = env_car_rental.CarRentalEnvironment()\n",
    "    \n",
    "pi = policy.DeterministicPolicy(env=env,best_actions={s:[0] for s in env.states})\n",
    "\n",
    "# Improve policy and visualize policy function\n",
    "for i in range(5):\n",
    "    arr = np.zeros((env.nmax+1,env.nmax+1))\n",
    "    for i in range(env.nmax+1):\n",
    "      for j in range(env.nmax+1):\n",
    "        arr[i,j] = pi.get((i,j))\n",
    "    plt.imshow(arr, cmap='hot', interpolation='nearest',origin=\"lower\")\n",
    "    plt.colorbar()\n",
    "    plt.show()\n",
    "    v = misc.evaluate_policy_linear_system_two_args(env,pi,gamma=gamma)\n",
    "    pi = misc.improve_policy_from_value_function_two_args(env, v, gamma)"
   ]
  },
  {
   "cell_type": "markdown",
   "metadata": {},
   "source": [
    "# Example 4.3 Gambler's Problem"
   ]
  },
  {
   "cell_type": "code",
   "execution_count": null,
   "metadata": {},
   "outputs": [],
   "source": [
    "N = 100\n",
    "\n",
    "env = env_gambler.GamblerEnvironment(n=N)\n",
    "\n",
    "# Evaluate policy and visualize value function\n",
    "v, arr_v = misc.value_iteration_two_args(env,tol=1e-4)\n",
    "for i in arr_v:\n",
    "  plt.plot([i[j] for j in range(1,N)])\n",
    "\n",
    "plt.figure()\n",
    "arr = np.zeros((N+1,N+1))\n",
    "for s in range(1,N):\n",
    "  for a in env.actions:\n",
    "    v1 = 0\n",
    "    for (s_prime, r, p) in env.state_transition_two_args(s,a):\n",
    "      v1 += p * (r + v[s_prime])\n",
    "    arr[s,a] = v1\n",
    "plt.imshow(arr[1:99,:])\n",
    "\n",
    "pi = misc.improve_policy_from_value_function_two_args(env,v,tol=1e-3)\n",
    "\n",
    "plt.figure()\n",
    "aa = []\n",
    "ss = []\n",
    "for s in range(1,N):\n",
    "  for a in range(1,N):\n",
    "    if pi.prob(a,s)>0:\n",
    "      aa.append(a)\n",
    "      ss.append(s)\n",
    "      break\n",
    "plt.plot(ss,aa,'x')"
   ]
  }
 ],
 "metadata": {
  "kernelspec": {
   "display_name": "Python 3",
   "language": "python",
   "name": "python3"
  },
  "language_info": {
   "codemirror_mode": {
    "name": "ipython",
    "version": 3
   },
   "file_extension": ".py",
   "mimetype": "text/x-python",
   "name": "python",
   "nbconvert_exporter": "python",
   "pygments_lexer": "ipython3",
   "version": "3.7.9"
  }
 },
 "nbformat": 4,
 "nbformat_minor": 4
}
