{
 "cells": [
  {
   "cell_type": "code",
   "execution_count": 1,
   "metadata": {
    "scrolled": true
   },
   "outputs": [],
   "source": [
    "%matplotlib inline\n",
    "import numpy as np\n",
    "import matplotlib.pyplot as plt\n",
    "from tqdm.notebook import tqdm\n",
    "\n",
    "from rlbase import misc\n",
    "from rlbase.environment import RandomWalkEnvironment, WindyGridworldEnvironment, CliffGridworldEnvironment\n",
    "from rlbase.policy import DeterministicPolicy, EpsGreedy\n",
    "from rlbase.agent import SarsaAgent, QlearningAgent, ExpectedSarsaAgent\n",
    "from rlbase.experiment import TD_CtrlExperiment\n",
    "from rlbase.policy_functions import *"
   ]
  },
  {
   "cell_type": "code",
   "execution_count": null,
   "metadata": {
    "scrolled": true
   },
   "outputs": [],
   "source": [
    "s0 = 3\n",
    "N = 2*s0-1\n",
    "\n",
    "env = RandomWalkEnvironment(nmax=N)\n",
    "pi = DeterministicPolicy(env=env)\n",
    "\n",
    "v_true = evaluate_policy_linear_system(env,pi)\n",
    "v_true = [v for v in v_true.values()]\n",
    "\n",
    "gamma = 1\n",
    "\n",
    "runs = 100\n",
    "n_episodes = 100\n",
    "\n",
    "legends = []\n",
    "for alpha in tqdm([0.15,0.1,0.05,0.04,0.03,0.02,0.01]):\n",
    "  e_mc = np.zeros((n_episodes,1))\n",
    "  e_td = np.zeros((n_episodes,1))\n",
    "  for run in tqdm(range(runs),leave=False):\n",
    "    v_init = np.ones((N+2,1))*0.5\n",
    "    v_mc = v_init.copy()\n",
    "    v_td = v_init.copy()\n",
    "        \n",
    "    for i in range(n_episodes):\n",
    "      s = s0\n",
    "      episode = []\n",
    "      while True:\n",
    "        r, s_prime, terminal = env.step(s,0)\n",
    "        episode += [(s,r)]\n",
    "        if terminal:\n",
    "          v_td[s] += alpha * (r - v_td[s] )\n",
    "          break\n",
    "        else:\n",
    "          v_td[s] += alpha * (r + gamma * v_td[s_prime] - v_td[s])\n",
    "        s = s_prime\n",
    "      G = 0\n",
    "      for (s,r) in episode[::-1]:\n",
    "        G = gamma * G + r\n",
    "        v_mc[s] += alpha * ( G - v_mc[s] )  \n",
    "      e_mc[i] += (np.sum((v_mc[1:N+1]-v_true[1:N+1])**2))**.5/runs/5**.5\n",
    "      e_td[i] += (np.sum((v_td[1:N+1]-v_true[1:N+1])**2))**.5/runs/5**.5\n",
    "  if alpha>=0.05:\n",
    "    plt.plot(e_td)\n",
    "    legends += [\"TD \"+str(alpha)]\n",
    "  else:\n",
    "    plt.plot(e_mc)\n",
    "    legends += [\"MC \"+str(alpha)]\n",
    "plt.legend(tuple(legends))  "
   ]
  },
  {
   "cell_type": "code",
   "execution_count": null,
   "metadata": {
    "scrolled": false
   },
   "outputs": [],
   "source": [
    "%matplotlib notebook\n",
    "\n",
    "lens = []\n",
    "timesteps = [0]\n",
    "eee = []\n",
    "fig, _ = plt.subplots(6,2,figsize=(5,7))\n",
    "def plot(i,episode):\n",
    "  global lens, timesteps\n",
    "  lens += [len(episode)]\n",
    "  timesteps += [timesteps[-1]+len(episode)]\n",
    "  if i%10==0:\n",
    "    plt.clf()\n",
    "    x = [a[0][0] for a in episode] + [env.terminal_states[0][0]]\n",
    "    y = [a[0][1] for a in episode] + [env.terminal_states[0][1]]\n",
    "    \n",
    "    for idx, di in enumerate([\"up\",\"down\",\"left\",\"right\"]):\n",
    "        plt.subplot(6,2,idx+1)\n",
    "        r = {s: agent.q[s][di] for s in env.states}\n",
    "        plt.imshow(np.transpose(np.flip(env.reshape(r),axis=1)),origin=\"lower\")\n",
    "        plt.colorbar()\n",
    "        plt.title(di)\n",
    "    best_action = {k:misc.argmax_unique(v) for (k,v) in agent.q.items()}\n",
    "    \n",
    "    arrow_length = .3\n",
    "    \n",
    "    plt.subplot(6,2,(5,8))\n",
    "    for j in range(env.sx+1):\n",
    "      plt.plot([j-.5,j-.5],[-.5,env.sy-.5],'k-')\n",
    "    for j in range(env.sy+1):\n",
    "      plt.plot([-.5,env.sx-.5],[j-.5,j-.5],'k-')\n",
    "    for (k,v) in best_action.items():\n",
    "      dx, dy = (0,0)\n",
    "      if \"right\" in v:\n",
    "        dx += arrow_length\n",
    "      if \"up\" in v:\n",
    "        dy += arrow_length\n",
    "      if \"left\" in v:\n",
    "        dx -= arrow_length\n",
    "      if \"down\" in v:\n",
    "        dy -= arrow_length\n",
    "      plt.arrow(k[0],k[1],dx,dy,color=\"r\",head_width=0.1)\n",
    "    for xx in [3,4,5,5.95,6.05,6.95,7.05,8]:\n",
    "      plt.plot([xx,xx],[0,6],dx,dy,color=\"b\")\n",
    "    plt.xlim(-.5,env.sx-.5)\n",
    "    plt.ylim(-.5,env.sy-.5)\n",
    "    plt.plot(env.start[0],env.start[1],\"ob\",markersize=12)\n",
    "    plt.plot(env.terminal_states[0][0],env.terminal_states[0][1],\"og\",markersize=12)\n",
    "    \n",
    "    plt.subplot(6,2,(9,12))\n",
    "    plt.plot(x,y,'-xk')\n",
    "    for j in range(env.sx+1):\n",
    "      plt.plot([j-.5,j-.5],[-.5,env.sy-.5],'k-')\n",
    "    for j in range(env.sy+1):\n",
    "      plt.plot([-.5,env.sx-.5],[j-.5,j-.5],'k-')\n",
    "    for a in episode:\n",
    "      dx, dy = (0,0)\n",
    "      if \"right\" in a[1]:\n",
    "        dx += arrow_length\n",
    "      if \"up\" in a[1]:\n",
    "        dy += arrow_length\n",
    "      if \"left\" in a[1]:\n",
    "        dx -= arrow_length\n",
    "      if \"down\" in a[1]:\n",
    "        dy -= arrow_length\n",
    "      plt.arrow(a[0][0],a[0][1],dx,dy,color=\"r\",head_width=0.1)\n",
    "    for xx in [3,4,5,5.95,6.05,6.95,7.05,8]:\n",
    "      plt.plot([xx,xx],[0,6],dx,dy,color=\"b\")\n",
    "    plt.xlim(-.5,env.sx-.5)\n",
    "    plt.ylim(-.5,env.sy-.5)\n",
    "    plt.plot(env.start[0],env.start[1],\"ob\",markersize=12)\n",
    "    plt.plot(env.terminal_states[0][0],env.terminal_states[0][1],\"og\",markersize=12)\n",
    "    \n",
    "    fig.canvas.draw()\n",
    "\n",
    "env = WindyGridworldEnvironment(diagonal=False,stay=False)\n",
    "pi = EpsGreedy(env=env,eps=0.1)\n",
    "agent = SarsaAgent(env=env,pi=pi)\n",
    "#agent = QlearningAgent(env=env,pi=p) \n",
    "exp = TD_CtrlExperiment(env=env,agent=agent,n_episodes=5000,callback=plot)\n",
    "exp.train()\n",
    "plt.figure()\n",
    "plt.plot(timesteps,list(range(len(timesteps))))"
   ]
  },
  {
   "cell_type": "code",
   "execution_count": null,
   "metadata": {
    "scrolled": true
   },
   "outputs": [],
   "source": [
    "%matplotlib notebook\n",
    "\n",
    "lens = []\n",
    "timesteps = [0]\n",
    "rewards = []\n",
    "fig, _ = plt.subplots(6,2,figsize=(5,7))\n",
    "\n",
    "def count(i,episode):\n",
    "  global lens, timesteps, rewards\n",
    "  lens += [len(episode)]\n",
    "  rewards += [sum(r for s,a,r in episode)]\n",
    "  timesteps += [timesteps[-1]+len(episode)]\n",
    "    \n",
    "def plot(i,episode):\n",
    "  count(i,episode)\n",
    "  if i%1000==0:\n",
    "    plt.clf()\n",
    "    x = [a[0][0] for a in episode] + [env.terminal_states[0][0]]\n",
    "    y = [a[0][1] for a in episode] + [env.terminal_states[0][1]]   \n",
    "    \n",
    "    #result = misc.evaluate_policy_linear_system(env,agent.pi)\n",
    "    #plt.imshow(np.transpose(env.reshape(result)),origin=\"upper\")\n",
    "    #plt.clim(-10,0)\n",
    "    \n",
    "    for idx, di in enumerate([\"up\",\"down\",\"left\",\"right\"]):\n",
    "        plt.subplot(6,2,idx+1)\n",
    "        r = {s: agent.q[s][di] for s in env.states}\n",
    "        plt.imshow(np.transpose(np.flip(env.reshape(r),axis=1)),origin=\"lower\")\n",
    "        plt.colorbar()\n",
    "        plt.title(di)\n",
    "    best_action = {k:misc.argmax(v) for (k,v) in agent.q.items()}\n",
    "    \n",
    "    arrow_length = .3\n",
    "    \n",
    "    plt.subplot(6,2,(5,8))\n",
    "    for j in range(env.sx+1):\n",
    "      plt.plot([j-.5,j-.5],[-.5,env.sy-.5],'k-')\n",
    "    for j in range(env.sy+1):\n",
    "      plt.plot([-.5,env.sx-.5],[j-.5,j-.5],'k-')\n",
    "    for (k,v) in best_action.items():\n",
    "      dx, dy = (0,0)\n",
    "      if \"right\" in v:\n",
    "        dx += arrow_length\n",
    "      if \"up\" in v:\n",
    "        dy += arrow_length\n",
    "      if \"left\" in v:\n",
    "        dx -= arrow_length\n",
    "      if \"down\" in v:\n",
    "        dy -= arrow_length\n",
    "      plt.arrow(k[0],k[1],dx,dy,color=\"r\",head_width=0.1)\n",
    "    plt.xlim(-.5,env.sx-.5)\n",
    "    plt.ylim(-.5,env.sy-.5)\n",
    "    plt.plot(env.start[0],env.start[1],\"ob\",markersize=12)\n",
    "    plt.plot(env.terminal_states[0][0],env.terminal_states[0][1],\"og\",markersize=12)\n",
    "    \n",
    "    plt.subplot(6,2,(9,12))\n",
    "    plt.plot(x,y,'-xk')\n",
    "    for j in range(env.sx+1):\n",
    "      plt.plot([j-.5,j-.5],[-.5,env.sy-.5],'k-')\n",
    "    for j in range(env.sy+1):\n",
    "      plt.plot([-.5,env.sx-.5],[j-.5,j-.5],'k-')\n",
    "    for a in episode:\n",
    "      dx, dy = (0,0)\n",
    "      if \"right\" in a[1]:\n",
    "        dx += arrow_length\n",
    "      if \"up\" in a[1]:\n",
    "        dy += arrow_length\n",
    "      if \"left\" in a[1]:\n",
    "        dx -= arrow_length\n",
    "      if \"down\" in a[1]:\n",
    "        dy -= arrow_length\n",
    "      plt.arrow(a[0][0],a[0][1],dx,dy,color=\"r\",head_width=0.1)\n",
    "    plt.xlim(-.5,env.sx-.5)\n",
    "    plt.ylim(-.5,env.sy-.5)\n",
    "    plt.plot(env.start[0],env.start[1],\"ob\",markersize=12)\n",
    "    plt.plot(env.terminal_states[0][0],env.terminal_states[0][1],\"og\",markersize=12)\n",
    "    \n",
    "    fig.canvas.draw()\n",
    "\n",
    "env = CliffGridworldEnvironment()\n",
    "pi = EpsGreedy(env=env,eps=0.1)\n",
    "all_rewards = {\"Qlearning\":np.zeros(500),\"Sarsa\":np.zeros(500)}\n",
    "\n",
    "for i in range(100):\n",
    "    lens = []\n",
    "    timesteps = [0]\n",
    "    rewards = []\n",
    "    agent = QlearningAgent(pi=pi,env=env)\n",
    "    exp = TD_CtrlExperiment(env=env,agent=agent,n_episodes=500,callback=count)\n",
    "    exp.train()\n",
    "    all_rewards[\"Qlearning\"] += rewards\n",
    "\n",
    "    lens = []\n",
    "    timesteps = [0]\n",
    "    rewards = []\n",
    "    agent = SarsaAgent(pi=pi,env=env)\n",
    "    exp = TD_CtrlExperiment(env=env,agent=agent,n_episodes=500,callback=count)\n",
    "    exp.train()\n",
    "    all_rewards[\"Sarsa\"] += rewards\n"
   ]
  },
  {
   "cell_type": "code",
   "execution_count": null,
   "metadata": {},
   "outputs": [],
   "source": [
    "%matplotlib inline\n",
    "import scipy.signal\n",
    "arr = [\"Qlearning\",\"Sarsa\"]\n",
    "for x in arr:\n",
    "  plt.plot(scipy.signal.savgol_filter(all_rewards[x]/100,window_length=11,polyorder=1))\n",
    "  #plt.plot(all_rewards[x]/100)\n",
    "plt.ylim([-100,-25])\n",
    "plt.legend(arr)"
   ]
  },
  {
   "cell_type": "code",
   "execution_count": 4,
   "metadata": {},
   "outputs": [
    {
     "data": {
      "application/vnd.jupyter.widget-view+json": {
       "model_id": "df142933838c479b937fca3de4b5bb3a",
       "version_major": 2,
       "version_minor": 0
      },
      "text/plain": [
       "  0%|          | 0/114 [00:00<?, ?it/s]"
      ]
     },
     "metadata": {},
     "output_type": "display_data"
    },
    {
     "data": {
      "application/vnd.jupyter.widget-view+json": {
       "model_id": "a4fc8ff9761642e587048220d5bb1709",
       "version_major": 2,
       "version_minor": 0
      },
      "text/plain": [
       "  0%|          | 0/100 [00:00<?, ?it/s]"
      ]
     },
     "metadata": {},
     "output_type": "display_data"
    },
    {
     "data": {
      "application/vnd.jupyter.widget-view+json": {
       "model_id": "b6bd334877c9405e873067d2068d0524",
       "version_major": 2,
       "version_minor": 0
      },
      "text/plain": [
       "  0%|          | 0/100 [00:00<?, ?it/s]"
      ]
     },
     "metadata": {},
     "output_type": "display_data"
    },
    {
     "data": {
      "application/vnd.jupyter.widget-view+json": {
       "model_id": "5dd5c0a7760f41e5a2f1802c6080d047",
       "version_major": 2,
       "version_minor": 0
      },
      "text/plain": [
       "  0%|          | 0/100 [00:00<?, ?it/s]"
      ]
     },
     "metadata": {},
     "output_type": "display_data"
    },
    {
     "data": {
      "application/vnd.jupyter.widget-view+json": {
       "model_id": "043155b597644195999505cc6b522e55",
       "version_major": 2,
       "version_minor": 0
      },
      "text/plain": [
       "  0%|          | 0/100 [00:00<?, ?it/s]"
      ]
     },
     "metadata": {},
     "output_type": "display_data"
    },
    {
     "data": {
      "application/vnd.jupyter.widget-view+json": {
       "model_id": "2c2bf6f56bec4c4daacfbe2686c3e341",
       "version_major": 2,
       "version_minor": 0
      },
      "text/plain": [
       "  0%|          | 0/100 [00:00<?, ?it/s]"
      ]
     },
     "metadata": {},
     "output_type": "display_data"
    },
    {
     "data": {
      "application/vnd.jupyter.widget-view+json": {
       "model_id": "bc0fbefc1de9405b831cd4102699c9bd",
       "version_major": 2,
       "version_minor": 0
      },
      "text/plain": [
       "  0%|          | 0/100 [00:00<?, ?it/s]"
      ]
     },
     "metadata": {},
     "output_type": "display_data"
    },
    {
     "data": {
      "application/vnd.jupyter.widget-view+json": {
       "model_id": "948f088d82b9480ab7f9eceed4d14d42",
       "version_major": 2,
       "version_minor": 0
      },
      "text/plain": [
       "  0%|          | 0/100 [00:00<?, ?it/s]"
      ]
     },
     "metadata": {},
     "output_type": "display_data"
    },
    {
     "data": {
      "application/vnd.jupyter.widget-view+json": {
       "model_id": "a3b004e8f51f4273871df1d5c775a4b0",
       "version_major": 2,
       "version_minor": 0
      },
      "text/plain": [
       "  0%|          | 0/100 [00:00<?, ?it/s]"
      ]
     },
     "metadata": {},
     "output_type": "display_data"
    },
    {
     "data": {
      "application/vnd.jupyter.widget-view+json": {
       "model_id": "515ae565d5db4d2497fd2ad785bda54d",
       "version_major": 2,
       "version_minor": 0
      },
      "text/plain": [
       "  0%|          | 0/100 [00:00<?, ?it/s]"
      ]
     },
     "metadata": {},
     "output_type": "display_data"
    },
    {
     "data": {
      "application/vnd.jupyter.widget-view+json": {
       "model_id": "6b786b0d54ce4fb98adbbdcf2affa310",
       "version_major": 2,
       "version_minor": 0
      },
      "text/plain": [
       "  0%|          | 0/100 [00:00<?, ?it/s]"
      ]
     },
     "metadata": {},
     "output_type": "display_data"
    },
    {
     "data": {
      "application/vnd.jupyter.widget-view+json": {
       "model_id": "8dd88358f22f4f5e8b6efbd77fd45c88",
       "version_major": 2,
       "version_minor": 0
      },
      "text/plain": [
       "  0%|          | 0/100 [00:00<?, ?it/s]"
      ]
     },
     "metadata": {},
     "output_type": "display_data"
    },
    {
     "data": {
      "application/vnd.jupyter.widget-view+json": {
       "model_id": "db99dbfb95f24e04bbdde7ece0b7dc61",
       "version_major": 2,
       "version_minor": 0
      },
      "text/plain": [
       "  0%|          | 0/100 [00:00<?, ?it/s]"
      ]
     },
     "metadata": {},
     "output_type": "display_data"
    },
    {
     "data": {
      "application/vnd.jupyter.widget-view+json": {
       "model_id": "6456615df1dd4615a33f8400e9c27dbb",
       "version_major": 2,
       "version_minor": 0
      },
      "text/plain": [
       "  0%|          | 0/100 [00:00<?, ?it/s]"
      ]
     },
     "metadata": {},
     "output_type": "display_data"
    },
    {
     "data": {
      "application/vnd.jupyter.widget-view+json": {
       "model_id": "61a49c37b4b44cd880aad1011def77bc",
       "version_major": 2,
       "version_minor": 0
      },
      "text/plain": [
       "  0%|          | 0/100 [00:00<?, ?it/s]"
      ]
     },
     "metadata": {},
     "output_type": "display_data"
    },
    {
     "data": {
      "application/vnd.jupyter.widget-view+json": {
       "model_id": "f8d5c1324b0e4e0b89298e2727ddf590",
       "version_major": 2,
       "version_minor": 0
      },
      "text/plain": [
       "  0%|          | 0/100 [00:00<?, ?it/s]"
      ]
     },
     "metadata": {},
     "output_type": "display_data"
    },
    {
     "data": {
      "application/vnd.jupyter.widget-view+json": {
       "model_id": "c61c7537268a41bf8c5b6f55f09b3e8e",
       "version_major": 2,
       "version_minor": 0
      },
      "text/plain": [
       "  0%|          | 0/100 [00:00<?, ?it/s]"
      ]
     },
     "metadata": {},
     "output_type": "display_data"
    },
    {
     "data": {
      "application/vnd.jupyter.widget-view+json": {
       "model_id": "5b841bef7f914174b24fcb857359fa66",
       "version_major": 2,
       "version_minor": 0
      },
      "text/plain": [
       "  0%|          | 0/100 [00:00<?, ?it/s]"
      ]
     },
     "metadata": {},
     "output_type": "display_data"
    },
    {
     "data": {
      "application/vnd.jupyter.widget-view+json": {
       "model_id": "a2d9e2f05abf4b10a44a24ac3510aa20",
       "version_major": 2,
       "version_minor": 0
      },
      "text/plain": [
       "  0%|          | 0/100 [00:00<?, ?it/s]"
      ]
     },
     "metadata": {},
     "output_type": "display_data"
    },
    {
     "data": {
      "application/vnd.jupyter.widget-view+json": {
       "model_id": "68ef9c9c9979478e92d2b176de4679ef",
       "version_major": 2,
       "version_minor": 0
      },
      "text/plain": [
       "  0%|          | 0/100 [00:00<?, ?it/s]"
      ]
     },
     "metadata": {},
     "output_type": "display_data"
    },
    {
     "data": {
      "application/vnd.jupyter.widget-view+json": {
       "model_id": "41cb74ff75ef4efea42eba5135b3f881",
       "version_major": 2,
       "version_minor": 0
      },
      "text/plain": [
       "  0%|          | 0/100 [00:00<?, ?it/s]"
      ]
     },
     "metadata": {},
     "output_type": "display_data"
    },
    {
     "data": {
      "application/vnd.jupyter.widget-view+json": {
       "model_id": "340a9f606282447db015fe083ef2f6d0",
       "version_major": 2,
       "version_minor": 0
      },
      "text/plain": [
       "  0%|          | 0/100 [00:00<?, ?it/s]"
      ]
     },
     "metadata": {},
     "output_type": "display_data"
    },
    {
     "data": {
      "application/vnd.jupyter.widget-view+json": {
       "model_id": "8609d04fa24945179e222aadf57b9908",
       "version_major": 2,
       "version_minor": 0
      },
      "text/plain": [
       "  0%|          | 0/100 [00:00<?, ?it/s]"
      ]
     },
     "metadata": {},
     "output_type": "display_data"
    },
    {
     "data": {
      "application/vnd.jupyter.widget-view+json": {
       "model_id": "895eba2024544811a51c210dc1064b65",
       "version_major": 2,
       "version_minor": 0
      },
      "text/plain": [
       "  0%|          | 0/100 [00:00<?, ?it/s]"
      ]
     },
     "metadata": {},
     "output_type": "display_data"
    },
    {
     "data": {
      "application/vnd.jupyter.widget-view+json": {
       "model_id": "7737dc3a48a549dd9dfd3e1ac42a4a1c",
       "version_major": 2,
       "version_minor": 0
      },
      "text/plain": [
       "  0%|          | 0/100 [00:00<?, ?it/s]"
      ]
     },
     "metadata": {},
     "output_type": "display_data"
    },
    {
     "data": {
      "application/vnd.jupyter.widget-view+json": {
       "model_id": "f0845b8c52a642d3a6de12dd9f1dcec5",
       "version_major": 2,
       "version_minor": 0
      },
      "text/plain": [
       "  0%|          | 0/100 [00:00<?, ?it/s]"
      ]
     },
     "metadata": {},
     "output_type": "display_data"
    },
    {
     "data": {
      "application/vnd.jupyter.widget-view+json": {
       "model_id": "df37d5dbe41a4af3b89ea819e0da1f4f",
       "version_major": 2,
       "version_minor": 0
      },
      "text/plain": [
       "  0%|          | 0/100 [00:00<?, ?it/s]"
      ]
     },
     "metadata": {},
     "output_type": "display_data"
    },
    {
     "data": {
      "application/vnd.jupyter.widget-view+json": {
       "model_id": "75bca177001948f29e237f4d5b8a2daa",
       "version_major": 2,
       "version_minor": 0
      },
      "text/plain": [
       "  0%|          | 0/100 [00:00<?, ?it/s]"
      ]
     },
     "metadata": {},
     "output_type": "display_data"
    },
    {
     "data": {
      "application/vnd.jupyter.widget-view+json": {
       "model_id": "b8e731afca894fe3a2a757914c91c239",
       "version_major": 2,
       "version_minor": 0
      },
      "text/plain": [
       "  0%|          | 0/100 [00:00<?, ?it/s]"
      ]
     },
     "metadata": {},
     "output_type": "display_data"
    },
    {
     "data": {
      "application/vnd.jupyter.widget-view+json": {
       "model_id": "33893033da6447b3bec12e85cc92a91f",
       "version_major": 2,
       "version_minor": 0
      },
      "text/plain": [
       "  0%|          | 0/100 [00:00<?, ?it/s]"
      ]
     },
     "metadata": {},
     "output_type": "display_data"
    },
    {
     "data": {
      "application/vnd.jupyter.widget-view+json": {
       "model_id": "6dcf905154af47f7bc951f978b32b036",
       "version_major": 2,
       "version_minor": 0
      },
      "text/plain": [
       "  0%|          | 0/100 [00:00<?, ?it/s]"
      ]
     },
     "metadata": {},
     "output_type": "display_data"
    },
    {
     "data": {
      "application/vnd.jupyter.widget-view+json": {
       "model_id": "021d443fda614f02ac4e72f113129a7c",
       "version_major": 2,
       "version_minor": 0
      },
      "text/plain": [
       "  0%|          | 0/100 [00:00<?, ?it/s]"
      ]
     },
     "metadata": {},
     "output_type": "display_data"
    },
    {
     "data": {
      "application/vnd.jupyter.widget-view+json": {
       "model_id": "310c97bd876e452583640a605b2a9a70",
       "version_major": 2,
       "version_minor": 0
      },
      "text/plain": [
       "  0%|          | 0/100 [00:00<?, ?it/s]"
      ]
     },
     "metadata": {},
     "output_type": "display_data"
    },
    {
     "data": {
      "application/vnd.jupyter.widget-view+json": {
       "model_id": "8fe5f1ec91624d63a34b8e256bbeaff1",
       "version_major": 2,
       "version_minor": 0
      },
      "text/plain": [
       "  0%|          | 0/100 [00:00<?, ?it/s]"
      ]
     },
     "metadata": {},
     "output_type": "display_data"
    },
    {
     "data": {
      "application/vnd.jupyter.widget-view+json": {
       "model_id": "e78a8bb200254679923d0d8e62627db1",
       "version_major": 2,
       "version_minor": 0
      },
      "text/plain": [
       "  0%|          | 0/100 [00:00<?, ?it/s]"
      ]
     },
     "metadata": {},
     "output_type": "display_data"
    },
    {
     "data": {
      "application/vnd.jupyter.widget-view+json": {
       "model_id": "7f506d53038543b29d0b2400d74ce0c5",
       "version_major": 2,
       "version_minor": 0
      },
      "text/plain": [
       "  0%|          | 0/100 [00:00<?, ?it/s]"
      ]
     },
     "metadata": {},
     "output_type": "display_data"
    },
    {
     "data": {
      "application/vnd.jupyter.widget-view+json": {
       "model_id": "38f766b65e5144fabbb1ac5424288f04",
       "version_major": 2,
       "version_minor": 0
      },
      "text/plain": [
       "  0%|          | 0/100 [00:00<?, ?it/s]"
      ]
     },
     "metadata": {},
     "output_type": "display_data"
    },
    {
     "data": {
      "application/vnd.jupyter.widget-view+json": {
       "model_id": "d4f5dd45483d431687ab5cb6fc7d827d",
       "version_major": 2,
       "version_minor": 0
      },
      "text/plain": [
       "  0%|          | 0/100 [00:00<?, ?it/s]"
      ]
     },
     "metadata": {},
     "output_type": "display_data"
    },
    {
     "data": {
      "application/vnd.jupyter.widget-view+json": {
       "model_id": "2801ccb289dc4229847c2f23ef1dc1e0",
       "version_major": 2,
       "version_minor": 0
      },
      "text/plain": [
       "  0%|          | 0/100 [00:00<?, ?it/s]"
      ]
     },
     "metadata": {},
     "output_type": "display_data"
    },
    {
     "data": {
      "application/vnd.jupyter.widget-view+json": {
       "model_id": "7d774c078f1e4efcb0cde90be8e9cba5",
       "version_major": 2,
       "version_minor": 0
      },
      "text/plain": [
       "  0%|          | 0/100 [00:00<?, ?it/s]"
      ]
     },
     "metadata": {},
     "output_type": "display_data"
    },
    {
     "data": {
      "application/vnd.jupyter.widget-view+json": {
       "model_id": "85bc0209f52944ad9964f712b33691c9",
       "version_major": 2,
       "version_minor": 0
      },
      "text/plain": [
       "  0%|          | 0/100 [00:00<?, ?it/s]"
      ]
     },
     "metadata": {},
     "output_type": "display_data"
    },
    {
     "data": {
      "application/vnd.jupyter.widget-view+json": {
       "model_id": "6d21102b37924056822b3fb017834dec",
       "version_major": 2,
       "version_minor": 0
      },
      "text/plain": [
       "  0%|          | 0/100 [00:00<?, ?it/s]"
      ]
     },
     "metadata": {},
     "output_type": "display_data"
    },
    {
     "data": {
      "application/vnd.jupyter.widget-view+json": {
       "model_id": "b5b20b30ec6f49c998226a4ddd384161",
       "version_major": 2,
       "version_minor": 0
      },
      "text/plain": [
       "  0%|          | 0/100 [00:00<?, ?it/s]"
      ]
     },
     "metadata": {},
     "output_type": "display_data"
    },
    {
     "data": {
      "application/vnd.jupyter.widget-view+json": {
       "model_id": "0e4e0a890f89471692eeb6cf025e819d",
       "version_major": 2,
       "version_minor": 0
      },
      "text/plain": [
       "  0%|          | 0/100 [00:00<?, ?it/s]"
      ]
     },
     "metadata": {},
     "output_type": "display_data"
    },
    {
     "data": {
      "application/vnd.jupyter.widget-view+json": {
       "model_id": "867aa8bb11fc409bbbf31b39ef54676a",
       "version_major": 2,
       "version_minor": 0
      },
      "text/plain": [
       "  0%|          | 0/100 [00:00<?, ?it/s]"
      ]
     },
     "metadata": {},
     "output_type": "display_data"
    },
    {
     "data": {
      "application/vnd.jupyter.widget-view+json": {
       "model_id": "c01bb129678d4655b23df9cecad9d109",
       "version_major": 2,
       "version_minor": 0
      },
      "text/plain": [
       "  0%|          | 0/100 [00:00<?, ?it/s]"
      ]
     },
     "metadata": {},
     "output_type": "display_data"
    },
    {
     "data": {
      "application/vnd.jupyter.widget-view+json": {
       "model_id": "576d6362f8b940a1be5b23e3f37541e2",
       "version_major": 2,
       "version_minor": 0
      },
      "text/plain": [
       "  0%|          | 0/100 [00:00<?, ?it/s]"
      ]
     },
     "metadata": {},
     "output_type": "display_data"
    },
    {
     "data": {
      "application/vnd.jupyter.widget-view+json": {
       "model_id": "e7b989839a96407e86c7d262212ccde5",
       "version_major": 2,
       "version_minor": 0
      },
      "text/plain": [
       "  0%|          | 0/100 [00:00<?, ?it/s]"
      ]
     },
     "metadata": {},
     "output_type": "display_data"
    },
    {
     "data": {
      "application/vnd.jupyter.widget-view+json": {
       "model_id": "bf5481b776a349679f1c7b495e1baf1e",
       "version_major": 2,
       "version_minor": 0
      },
      "text/plain": [
       "  0%|          | 0/100 [00:00<?, ?it/s]"
      ]
     },
     "metadata": {},
     "output_type": "display_data"
    },
    {
     "data": {
      "application/vnd.jupyter.widget-view+json": {
       "model_id": "726b3f50ad3949ad83bc44783322b1ba",
       "version_major": 2,
       "version_minor": 0
      },
      "text/plain": [
       "  0%|          | 0/100 [00:00<?, ?it/s]"
      ]
     },
     "metadata": {},
     "output_type": "display_data"
    },
    {
     "data": {
      "application/vnd.jupyter.widget-view+json": {
       "model_id": "fd240616ea7a4a7ca4e2188c48d326d1",
       "version_major": 2,
       "version_minor": 0
      },
      "text/plain": [
       "  0%|          | 0/100 [00:00<?, ?it/s]"
      ]
     },
     "metadata": {},
     "output_type": "display_data"
    },
    {
     "data": {
      "application/vnd.jupyter.widget-view+json": {
       "model_id": "813ad01ccd5b4fe28b2068ea1d0d0fd3",
       "version_major": 2,
       "version_minor": 0
      },
      "text/plain": [
       "  0%|          | 0/100 [00:00<?, ?it/s]"
      ]
     },
     "metadata": {},
     "output_type": "display_data"
    },
    {
     "data": {
      "application/vnd.jupyter.widget-view+json": {
       "model_id": "50c343652e5c47e980eea12c386c3b4d",
       "version_major": 2,
       "version_minor": 0
      },
      "text/plain": [
       "  0%|          | 0/100 [00:00<?, ?it/s]"
      ]
     },
     "metadata": {},
     "output_type": "display_data"
    },
    {
     "data": {
      "application/vnd.jupyter.widget-view+json": {
       "model_id": "0aedd82e87694e0f8e10dc31936ce723",
       "version_major": 2,
       "version_minor": 0
      },
      "text/plain": [
       "  0%|          | 0/100 [00:00<?, ?it/s]"
      ]
     },
     "metadata": {},
     "output_type": "display_data"
    },
    {
     "data": {
      "application/vnd.jupyter.widget-view+json": {
       "model_id": "4c4d4311f9054669b9c9f277e08afff7",
       "version_major": 2,
       "version_minor": 0
      },
      "text/plain": [
       "  0%|          | 0/100 [00:00<?, ?it/s]"
      ]
     },
     "metadata": {},
     "output_type": "display_data"
    },
    {
     "data": {
      "application/vnd.jupyter.widget-view+json": {
       "model_id": "4a0ddba2612b4a61ab9fe764b97e0cb2",
       "version_major": 2,
       "version_minor": 0
      },
      "text/plain": [
       "  0%|          | 0/100 [00:00<?, ?it/s]"
      ]
     },
     "metadata": {},
     "output_type": "display_data"
    },
    {
     "data": {
      "application/vnd.jupyter.widget-view+json": {
       "model_id": "b50eff3168fe41d198932ff9b00040f1",
       "version_major": 2,
       "version_minor": 0
      },
      "text/plain": [
       "  0%|          | 0/100 [00:00<?, ?it/s]"
      ]
     },
     "metadata": {},
     "output_type": "display_data"
    },
    {
     "data": {
      "application/vnd.jupyter.widget-view+json": {
       "model_id": "2cac17bce7424b30b094cac3f446b65d",
       "version_major": 2,
       "version_minor": 0
      },
      "text/plain": [
       "  0%|          | 0/100 [00:00<?, ?it/s]"
      ]
     },
     "metadata": {},
     "output_type": "display_data"
    },
    {
     "data": {
      "application/vnd.jupyter.widget-view+json": {
       "model_id": "4749383a466e4257a81d0083fdd3d9a6",
       "version_major": 2,
       "version_minor": 0
      },
      "text/plain": [
       "  0%|          | 0/10 [00:00<?, ?it/s]"
      ]
     },
     "metadata": {},
     "output_type": "display_data"
    },
    {
     "data": {
      "application/vnd.jupyter.widget-view+json": {
       "model_id": "25a7f0184f184babba014e8eeeaebeb5",
       "version_major": 2,
       "version_minor": 0
      },
      "text/plain": [
       "  0%|          | 0/10 [00:00<?, ?it/s]"
      ]
     },
     "metadata": {},
     "output_type": "display_data"
    },
    {
     "data": {
      "application/vnd.jupyter.widget-view+json": {
       "model_id": "6adcb7cdb4bc4e13b355c1bd515677a3",
       "version_major": 2,
       "version_minor": 0
      },
      "text/plain": [
       "  0%|          | 0/10 [00:00<?, ?it/s]"
      ]
     },
     "metadata": {},
     "output_type": "display_data"
    },
    {
     "data": {
      "application/vnd.jupyter.widget-view+json": {
       "model_id": "b7cff0365bb1430ba7a42def584d7cc7",
       "version_major": 2,
       "version_minor": 0
      },
      "text/plain": [
       "  0%|          | 0/10 [00:00<?, ?it/s]"
      ]
     },
     "metadata": {},
     "output_type": "display_data"
    },
    {
     "data": {
      "application/vnd.jupyter.widget-view+json": {
       "model_id": "219e0bbf22c546f49dd7fec55f562dfe",
       "version_major": 2,
       "version_minor": 0
      },
      "text/plain": [
       "  0%|          | 0/10 [00:00<?, ?it/s]"
      ]
     },
     "metadata": {},
     "output_type": "display_data"
    },
    {
     "data": {
      "application/vnd.jupyter.widget-view+json": {
       "model_id": "9f930d993c18410da7aa976121d87ece",
       "version_major": 2,
       "version_minor": 0
      },
      "text/plain": [
       "  0%|          | 0/10 [00:00<?, ?it/s]"
      ]
     },
     "metadata": {},
     "output_type": "display_data"
    },
    {
     "data": {
      "application/vnd.jupyter.widget-view+json": {
       "model_id": "59f452c0f1604e8f98003b7ee32fc06d",
       "version_major": 2,
       "version_minor": 0
      },
      "text/plain": [
       "  0%|          | 0/10 [00:00<?, ?it/s]"
      ]
     },
     "metadata": {},
     "output_type": "display_data"
    },
    {
     "data": {
      "application/vnd.jupyter.widget-view+json": {
       "model_id": "1a69f1bd2c8d4283ad4fab9e1e0c9f87",
       "version_major": 2,
       "version_minor": 0
      },
      "text/plain": [
       "  0%|          | 0/10 [00:00<?, ?it/s]"
      ]
     },
     "metadata": {},
     "output_type": "display_data"
    },
    {
     "data": {
      "application/vnd.jupyter.widget-view+json": {
       "model_id": "3b2b9434976444f0a7ae35eef9d9f0b4",
       "version_major": 2,
       "version_minor": 0
      },
      "text/plain": [
       "  0%|          | 0/10 [00:00<?, ?it/s]"
      ]
     },
     "metadata": {},
     "output_type": "display_data"
    },
    {
     "data": {
      "application/vnd.jupyter.widget-view+json": {
       "model_id": "08891805534341acaa2e2c76c9623a0a",
       "version_major": 2,
       "version_minor": 0
      },
      "text/plain": [
       "  0%|          | 0/10 [00:00<?, ?it/s]"
      ]
     },
     "metadata": {},
     "output_type": "display_data"
    },
    {
     "data": {
      "application/vnd.jupyter.widget-view+json": {
       "model_id": "cff89bb5c24d44b9b615f2b779507f1d",
       "version_major": 2,
       "version_minor": 0
      },
      "text/plain": [
       "  0%|          | 0/10 [00:00<?, ?it/s]"
      ]
     },
     "metadata": {},
     "output_type": "display_data"
    },
    {
     "data": {
      "application/vnd.jupyter.widget-view+json": {
       "model_id": "f683e12ef7c8455487a706309716ea08",
       "version_major": 2,
       "version_minor": 0
      },
      "text/plain": [
       "  0%|          | 0/10 [00:00<?, ?it/s]"
      ]
     },
     "metadata": {},
     "output_type": "display_data"
    },
    {
     "data": {
      "application/vnd.jupyter.widget-view+json": {
       "model_id": "6ed3583625d24f16827e52572d42b0cb",
       "version_major": 2,
       "version_minor": 0
      },
      "text/plain": [
       "  0%|          | 0/10 [00:00<?, ?it/s]"
      ]
     },
     "metadata": {},
     "output_type": "display_data"
    },
    {
     "data": {
      "application/vnd.jupyter.widget-view+json": {
       "model_id": "531f9077f8c54278b11a07660ad4b61c",
       "version_major": 2,
       "version_minor": 0
      },
      "text/plain": [
       "  0%|          | 0/10 [00:00<?, ?it/s]"
      ]
     },
     "metadata": {},
     "output_type": "display_data"
    },
    {
     "data": {
      "application/vnd.jupyter.widget-view+json": {
       "model_id": "816f3ce06d1f4271be47dbee156e6b04",
       "version_major": 2,
       "version_minor": 0
      },
      "text/plain": [
       "  0%|          | 0/10 [00:00<?, ?it/s]"
      ]
     },
     "metadata": {},
     "output_type": "display_data"
    },
    {
     "data": {
      "application/vnd.jupyter.widget-view+json": {
       "model_id": "2e05ad1b94d047798b14394cdef6e6c8",
       "version_major": 2,
       "version_minor": 0
      },
      "text/plain": [
       "  0%|          | 0/10 [00:00<?, ?it/s]"
      ]
     },
     "metadata": {},
     "output_type": "display_data"
    },
    {
     "data": {
      "application/vnd.jupyter.widget-view+json": {
       "model_id": "9697fe721f6f4ce38068c5db637fec04",
       "version_major": 2,
       "version_minor": 0
      },
      "text/plain": [
       "  0%|          | 0/10 [00:00<?, ?it/s]"
      ]
     },
     "metadata": {},
     "output_type": "display_data"
    },
    {
     "data": {
      "application/vnd.jupyter.widget-view+json": {
       "model_id": "e4b08e89ec1a4343a70395ed6cac8aa3",
       "version_major": 2,
       "version_minor": 0
      },
      "text/plain": [
       "  0%|          | 0/10 [00:00<?, ?it/s]"
      ]
     },
     "metadata": {},
     "output_type": "display_data"
    },
    {
     "data": {
      "application/vnd.jupyter.widget-view+json": {
       "model_id": "015a9d1569a9484cb8147dda448c8fff",
       "version_major": 2,
       "version_minor": 0
      },
      "text/plain": [
       "  0%|          | 0/10 [00:00<?, ?it/s]"
      ]
     },
     "metadata": {},
     "output_type": "display_data"
    },
    {
     "data": {
      "application/vnd.jupyter.widget-view+json": {
       "model_id": "55b1cbe54174430480622bd0c20c5c06",
       "version_major": 2,
       "version_minor": 0
      },
      "text/plain": [
       "  0%|          | 0/10 [00:00<?, ?it/s]"
      ]
     },
     "metadata": {},
     "output_type": "display_data"
    },
    {
     "data": {
      "application/vnd.jupyter.widget-view+json": {
       "model_id": "a8f3d49233b1433d892a3338622b13b5",
       "version_major": 2,
       "version_minor": 0
      },
      "text/plain": [
       "  0%|          | 0/10 [00:00<?, ?it/s]"
      ]
     },
     "metadata": {},
     "output_type": "display_data"
    },
    {
     "data": {
      "application/vnd.jupyter.widget-view+json": {
       "model_id": "53608f5687de429ab7c893b9dc7bd32e",
       "version_major": 2,
       "version_minor": 0
      },
      "text/plain": [
       "  0%|          | 0/10 [00:00<?, ?it/s]"
      ]
     },
     "metadata": {},
     "output_type": "display_data"
    },
    {
     "data": {
      "application/vnd.jupyter.widget-view+json": {
       "model_id": "9ae2d93d298547529f48519eee112a0e",
       "version_major": 2,
       "version_minor": 0
      },
      "text/plain": [
       "  0%|          | 0/10 [00:00<?, ?it/s]"
      ]
     },
     "metadata": {},
     "output_type": "display_data"
    },
    {
     "data": {
      "application/vnd.jupyter.widget-view+json": {
       "model_id": "27595b762753498abd13ff3b8417979a",
       "version_major": 2,
       "version_minor": 0
      },
      "text/plain": [
       "  0%|          | 0/10 [00:00<?, ?it/s]"
      ]
     },
     "metadata": {},
     "output_type": "display_data"
    },
    {
     "data": {
      "application/vnd.jupyter.widget-view+json": {
       "model_id": "211eed3461784067a2423d96a635c3dc",
       "version_major": 2,
       "version_minor": 0
      },
      "text/plain": [
       "  0%|          | 0/10 [00:00<?, ?it/s]"
      ]
     },
     "metadata": {},
     "output_type": "display_data"
    },
    {
     "data": {
      "application/vnd.jupyter.widget-view+json": {
       "model_id": "f9c32702545747838f98bfcbde6a47f4",
       "version_major": 2,
       "version_minor": 0
      },
      "text/plain": [
       "  0%|          | 0/10 [00:00<?, ?it/s]"
      ]
     },
     "metadata": {},
     "output_type": "display_data"
    },
    {
     "data": {
      "application/vnd.jupyter.widget-view+json": {
       "model_id": "201bf72e95624202a12481749f67949f",
       "version_major": 2,
       "version_minor": 0
      },
      "text/plain": [
       "  0%|          | 0/10 [00:00<?, ?it/s]"
      ]
     },
     "metadata": {},
     "output_type": "display_data"
    },
    {
     "data": {
      "application/vnd.jupyter.widget-view+json": {
       "model_id": "068d7dd70d4a4d73b9a7e972991f92ba",
       "version_major": 2,
       "version_minor": 0
      },
      "text/plain": [
       "  0%|          | 0/10 [00:00<?, ?it/s]"
      ]
     },
     "metadata": {},
     "output_type": "display_data"
    },
    {
     "data": {
      "application/vnd.jupyter.widget-view+json": {
       "model_id": "a1007d2e3bbc4240a4c9dc68c549f1f2",
       "version_major": 2,
       "version_minor": 0
      },
      "text/plain": [
       "  0%|          | 0/10 [00:00<?, ?it/s]"
      ]
     },
     "metadata": {},
     "output_type": "display_data"
    },
    {
     "data": {
      "application/vnd.jupyter.widget-view+json": {
       "model_id": "bd5c28e620cf417a853309899c3f6a6b",
       "version_major": 2,
       "version_minor": 0
      },
      "text/plain": [
       "  0%|          | 0/10 [00:00<?, ?it/s]"
      ]
     },
     "metadata": {},
     "output_type": "display_data"
    },
    {
     "data": {
      "application/vnd.jupyter.widget-view+json": {
       "model_id": "b4d09559f4a44ddbbe8c7d367b5e2cf9",
       "version_major": 2,
       "version_minor": 0
      },
      "text/plain": [
       "  0%|          | 0/10 [00:00<?, ?it/s]"
      ]
     },
     "metadata": {},
     "output_type": "display_data"
    },
    {
     "data": {
      "application/vnd.jupyter.widget-view+json": {
       "model_id": "400d13760e444ff99c3de0333811152e",
       "version_major": 2,
       "version_minor": 0
      },
      "text/plain": [
       "  0%|          | 0/10 [00:00<?, ?it/s]"
      ]
     },
     "metadata": {},
     "output_type": "display_data"
    },
    {
     "data": {
      "application/vnd.jupyter.widget-view+json": {
       "model_id": "4c1992913f0742afbe22dd966243ba80",
       "version_major": 2,
       "version_minor": 0
      },
      "text/plain": [
       "  0%|          | 0/10 [00:00<?, ?it/s]"
      ]
     },
     "metadata": {},
     "output_type": "display_data"
    },
    {
     "data": {
      "application/vnd.jupyter.widget-view+json": {
       "model_id": "1fd13f253d5a4eff95482ec8738ce644",
       "version_major": 2,
       "version_minor": 0
      },
      "text/plain": [
       "  0%|          | 0/10 [00:00<?, ?it/s]"
      ]
     },
     "metadata": {},
     "output_type": "display_data"
    },
    {
     "data": {
      "application/vnd.jupyter.widget-view+json": {
       "model_id": "731a977250fa415596a2bda80146cbdc",
       "version_major": 2,
       "version_minor": 0
      },
      "text/plain": [
       "  0%|          | 0/10 [00:00<?, ?it/s]"
      ]
     },
     "metadata": {},
     "output_type": "display_data"
    },
    {
     "data": {
      "application/vnd.jupyter.widget-view+json": {
       "model_id": "3788c7f4e3574fa091d8d402e0cccc2f",
       "version_major": 2,
       "version_minor": 0
      },
      "text/plain": [
       "  0%|          | 0/10 [00:00<?, ?it/s]"
      ]
     },
     "metadata": {},
     "output_type": "display_data"
    },
    {
     "data": {
      "application/vnd.jupyter.widget-view+json": {
       "model_id": "bb78f16d39b84b099a21e7ea0105fc2a",
       "version_major": 2,
       "version_minor": 0
      },
      "text/plain": [
       "  0%|          | 0/10 [00:00<?, ?it/s]"
      ]
     },
     "metadata": {},
     "output_type": "display_data"
    },
    {
     "data": {
      "application/vnd.jupyter.widget-view+json": {
       "model_id": "d9c5010083fa4a4e9197b327c12d8bea",
       "version_major": 2,
       "version_minor": 0
      },
      "text/plain": [
       "  0%|          | 0/10 [00:00<?, ?it/s]"
      ]
     },
     "metadata": {},
     "output_type": "display_data"
    },
    {
     "data": {
      "application/vnd.jupyter.widget-view+json": {
       "model_id": "25dacabcdd024a0aa7df9c84dc92b6dc",
       "version_major": 2,
       "version_minor": 0
      },
      "text/plain": [
       "  0%|          | 0/10 [00:00<?, ?it/s]"
      ]
     },
     "metadata": {},
     "output_type": "display_data"
    },
    {
     "data": {
      "application/vnd.jupyter.widget-view+json": {
       "model_id": "beb5675d9c2c4686a08e673e8575ca1f",
       "version_major": 2,
       "version_minor": 0
      },
      "text/plain": [
       "  0%|          | 0/10 [00:00<?, ?it/s]"
      ]
     },
     "metadata": {},
     "output_type": "display_data"
    },
    {
     "data": {
      "application/vnd.jupyter.widget-view+json": {
       "model_id": "7b8d14a0ae0f4ffba5889b71c946ae85",
       "version_major": 2,
       "version_minor": 0
      },
      "text/plain": [
       "  0%|          | 0/10 [00:00<?, ?it/s]"
      ]
     },
     "metadata": {},
     "output_type": "display_data"
    },
    {
     "data": {
      "application/vnd.jupyter.widget-view+json": {
       "model_id": "6bee4da26eb74df7a90a663914b80df7",
       "version_major": 2,
       "version_minor": 0
      },
      "text/plain": [
       "  0%|          | 0/10 [00:00<?, ?it/s]"
      ]
     },
     "metadata": {},
     "output_type": "display_data"
    },
    {
     "data": {
      "application/vnd.jupyter.widget-view+json": {
       "model_id": "1c755af8f161482e8f19ecf605de3a3c",
       "version_major": 2,
       "version_minor": 0
      },
      "text/plain": [
       "  0%|          | 0/10 [00:00<?, ?it/s]"
      ]
     },
     "metadata": {},
     "output_type": "display_data"
    },
    {
     "data": {
      "application/vnd.jupyter.widget-view+json": {
       "model_id": "c47fbdf83fe8474985582889628705c1",
       "version_major": 2,
       "version_minor": 0
      },
      "text/plain": [
       "  0%|          | 0/10 [00:00<?, ?it/s]"
      ]
     },
     "metadata": {},
     "output_type": "display_data"
    },
    {
     "data": {
      "application/vnd.jupyter.widget-view+json": {
       "model_id": "7899634909ba46efacc28f43c374abc2",
       "version_major": 2,
       "version_minor": 0
      },
      "text/plain": [
       "  0%|          | 0/10 [00:00<?, ?it/s]"
      ]
     },
     "metadata": {},
     "output_type": "display_data"
    },
    {
     "data": {
      "application/vnd.jupyter.widget-view+json": {
       "model_id": "7d4fceea01ce4786b21948be2c3f48fa",
       "version_major": 2,
       "version_minor": 0
      },
      "text/plain": [
       "  0%|          | 0/10 [00:00<?, ?it/s]"
      ]
     },
     "metadata": {},
     "output_type": "display_data"
    },
    {
     "data": {
      "application/vnd.jupyter.widget-view+json": {
       "model_id": "3cd4dff8414e46929a598c5542e461ae",
       "version_major": 2,
       "version_minor": 0
      },
      "text/plain": [
       "  0%|          | 0/10 [00:00<?, ?it/s]"
      ]
     },
     "metadata": {},
     "output_type": "display_data"
    },
    {
     "data": {
      "application/vnd.jupyter.widget-view+json": {
       "model_id": "f67ec338eed4404bafdc0417669d6613",
       "version_major": 2,
       "version_minor": 0
      },
      "text/plain": [
       "  0%|          | 0/10 [00:00<?, ?it/s]"
      ]
     },
     "metadata": {},
     "output_type": "display_data"
    },
    {
     "data": {
      "application/vnd.jupyter.widget-view+json": {
       "model_id": "d9856e1fe87a4dbebc752e31f90583c6",
       "version_major": 2,
       "version_minor": 0
      },
      "text/plain": [
       "  0%|          | 0/10 [00:00<?, ?it/s]"
      ]
     },
     "metadata": {},
     "output_type": "display_data"
    },
    {
     "data": {
      "application/vnd.jupyter.widget-view+json": {
       "model_id": "5283aa8bb0c24b568e46ab0c0270e23b",
       "version_major": 2,
       "version_minor": 0
      },
      "text/plain": [
       "  0%|          | 0/10 [00:00<?, ?it/s]"
      ]
     },
     "metadata": {},
     "output_type": "display_data"
    },
    {
     "data": {
      "application/vnd.jupyter.widget-view+json": {
       "model_id": "3e3b8ca04eae43a9916ca5c75220351b",
       "version_major": 2,
       "version_minor": 0
      },
      "text/plain": [
       "  0%|          | 0/10 [00:00<?, ?it/s]"
      ]
     },
     "metadata": {},
     "output_type": "display_data"
    },
    {
     "data": {
      "application/vnd.jupyter.widget-view+json": {
       "model_id": "45e0a492923e4eaf99755560274739ff",
       "version_major": 2,
       "version_minor": 0
      },
      "text/plain": [
       "  0%|          | 0/10 [00:00<?, ?it/s]"
      ]
     },
     "metadata": {},
     "output_type": "display_data"
    },
    {
     "data": {
      "application/vnd.jupyter.widget-view+json": {
       "model_id": "19aea47cd17841a4b2622608fcdaf645",
       "version_major": 2,
       "version_minor": 0
      },
      "text/plain": [
       "  0%|          | 0/10 [00:00<?, ?it/s]"
      ]
     },
     "metadata": {},
     "output_type": "display_data"
    },
    {
     "data": {
      "application/vnd.jupyter.widget-view+json": {
       "model_id": "c97b22edb70e49758339f56e8b21eb00",
       "version_major": 2,
       "version_minor": 0
      },
      "text/plain": [
       "  0%|          | 0/10 [00:00<?, ?it/s]"
      ]
     },
     "metadata": {},
     "output_type": "display_data"
    },
    {
     "data": {
      "application/vnd.jupyter.widget-view+json": {
       "model_id": "bc1af77eb14241ecaec95ac66411bed4",
       "version_major": 2,
       "version_minor": 0
      },
      "text/plain": [
       "  0%|          | 0/10 [00:00<?, ?it/s]"
      ]
     },
     "metadata": {},
     "output_type": "display_data"
    },
    {
     "data": {
      "application/vnd.jupyter.widget-view+json": {
       "model_id": "1c6b83e7c3b74000adcbc5e421e9577f",
       "version_major": 2,
       "version_minor": 0
      },
      "text/plain": [
       "  0%|          | 0/10 [00:00<?, ?it/s]"
      ]
     },
     "metadata": {},
     "output_type": "display_data"
    },
    {
     "data": {
      "application/vnd.jupyter.widget-view+json": {
       "model_id": "89df792732cc4ea6a22ed9ca08b6c6fc",
       "version_major": 2,
       "version_minor": 0
      },
      "text/plain": [
       "  0%|          | 0/10 [00:00<?, ?it/s]"
      ]
     },
     "metadata": {},
     "output_type": "display_data"
    }
   ],
   "source": [
    "alphas = [0.1+i*0.05 for i in range(19)]\n",
    "\n",
    "algos = [\"Qlearning\",\"Sarsa\",\"ExpectedSarsa\"]\n",
    "typs = [\"interim\",\"asymptotic\"]\n",
    "\n",
    "runs     = {\"interim\": 50000, \"asymptotic\": 10}\n",
    "episodes = {\"interim\": 100, \"asymptotic\": 100000}\n",
    "\n",
    "runs     = {\"interim\": 100, \"asymptotic\": 10}\n",
    "episodes = {\"interim\": 100, \"asymptotic\": 10000}\n",
    "\n",
    "rewards = 0\n",
    "def count(i,episode):\n",
    "  global rewards\n",
    "  rewards += sum(r for s,a,r in episode)\n",
    "\n",
    "combs = [(typ,algo,alpha) for typ in typs for algo in algos for alpha in alphas]\n",
    "    \n",
    "all_rewards = {comb:0 for comb in combs}\n",
    "env = CliffGridworldEnvironment()\n",
    "for (typ,algo,alpha) in tqdm(combs):\n",
    "    pi = EpsGreedy(env=env,eps=0.1)\n",
    "    for i in range(runs[typ]):\n",
    "        rewards = 0\n",
    "        if algo==\"Qlearning\":\n",
    "            agent = QlearningAgent(pi=pi,env=env,alpha=alpha)\n",
    "        elif algo==\"Sarsa\":\n",
    "            agent = SarsaAgent(pi=pi,env=env,alpha=alpha)\n",
    "        elif algo==\"ExpectedSarsa\":\n",
    "            agent = ExpectedSarsaAgent(pi=pi,env=env,alpha=alpha)\n",
    "        exp = TD_CtrlExperiment(env=env,agent=agent,n_episodes=episodes[typ],callback=count,show_progress=False)\n",
    "        exp.train()\n",
    "        all_rewards[(typ,algo,alpha)] += rewards / episodes[typ] / runs[typ]"
   ]
  },
  {
   "cell_type": "code",
   "execution_count": 5,
   "metadata": {},
   "outputs": [
    {
     "data": {
      "text/plain": [
       "(-160.0, 0.0)"
      ]
     },
     "execution_count": 5,
     "metadata": {},
     "output_type": "execute_result"
    },
    {
     "data": {
      "image/png": "[encoded data removed]",
      "text/plain": [
       "<Figure size 432x288 with 1 Axes>"
      ]
     },
     "metadata": {
      "needs_background": "light"
     },
     "output_type": "display_data"
    }
   ],
   "source": [
    "col ={\"Sarsa\":\"b\",\"Qlearning\":\"k\",\"ExpectedSarsa\":\"r\"}\n",
    "lty = {\"interim\":\"--\",\"asymptotic\":\"-\"}\n",
    "\n",
    "d ={(typ,algo):[] for typ in typs for algo in algos}\n",
    "for (typ,algo,alpha) in combs:\n",
    "    d[(typ,algo)] += [all_rewards[(typ,algo,alpha)]]\n",
    "for typ in typs:\n",
    "    for algo in algos:\n",
    "        plt.plot(alphas,d[(typ,algo)],col[algo]+lty[typ]+\"x\")\n",
    "plt.ylim([-160,0])"
   ]
  },
  {
   "cell_type": "code",
   "execution_count": null,
   "metadata": {},
   "outputs": [],
   "source": []
  }
 ],
 "metadata": {
  "kernelspec": {
   "display_name": "Python 3",
   "language": "python",
   "name": "python3"
  },
  "language_info": {
   "codemirror_mode": {
    "name": "ipython",
    "version": 3
   },
   "file_extension": ".py",
   "mimetype": "text/x-python",
   "name": "python",
   "nbconvert_exporter": "python",
   "pygments_lexer": "ipython3",
   "version": "3.7.9"
  }
 },
 "nbformat": 4,
 "nbformat_minor": 4
}
