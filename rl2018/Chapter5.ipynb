{
 "cells": [
  {
   "cell_type": "code",
   "execution_count": 90,
   "metadata": {},
   "outputs": [
    {
     "data": {
      "text/plain": [
       "<module 'experiment_mc_exploringstarts' from '/home/hofmann/nngame/package/src/rlbase/experiment_mc_exploringstarts.py'>"
      ]
     },
     "execution_count": 90,
     "metadata": {},
     "output_type": "execute_result"
    }
   ],
   "source": [
    "%matplotlib inline\n",
    "\n",
    "import numpy as np\n",
    "import tabulate as tb\n",
    "import numpy.random as npr\n",
    "import math\n",
    "import matplotlib.pyplot as plt\n",
    "\n",
    "import sys\n",
    "sys.path.append(\"/home/hofmann/nngame/package/src/rlbase/\")\n",
    "\n",
    "import env_blackjack\n",
    "import policy\n",
    "import agent_deterministic\n",
    "import experiment_mc_everyvisit\n",
    "import misc\n",
    "\n",
    "from tqdm.notebook import tqdm\n",
    "\n",
    "from importlib import reload  \n",
    "import experiment_mc_exploringstarts\n",
    "reload(experiment_mc_exploringstarts)"
   ]
  },
  {
   "cell_type": "markdown",
   "metadata": {},
   "source": [
    "# Figure 5.1\n",
    "Approximate state-value functions for the blackjack policy that sticks only on 20 or 21, computed by Monte Carlo policy evaluation"
   ]
  },
  {
   "cell_type": "code",
   "execution_count": 34,
   "metadata": {},
   "outputs": [
    {
     "name": "stderr",
     "output_type": "stream",
     "text": [
      "100%|██████████| 500000/500000 [00:05<00:00, 84021.64it/s]\n"
     ]
    }
   ],
   "source": [
    "env = env_blackjack.BlackjackEnvironment()\n",
    "pi = policy.DeterministicPolicy(env.states,env.actions,{s:[s[0]<20] for s in env.states})\n",
    "agent = agent_deterministic.DeterministicAgent()\n",
    "agent.agent_init({\"pi\":pi})\n",
    "ex = experiment_mc_everyvisit.MC_EveryVisitExperiment(env,agent)\n",
    "ex.experiment_init({\"n_episodes\":500000})\n",
    "ex.train()"
   ]
  },
  {
   "cell_type": "code",
   "execution_count": 35,
   "metadata": {},
   "outputs": [
    {
     "data": {
      "text/plain": [
       "Text(0.5, 1.0, 'Usable ace')"
      ]
     },
     "execution_count": 35,
     "metadata": {},
     "output_type": "execute_result"
    },
    {
     "data": {
      "image/png": "[encoded data removed]",
      "text/plain": [
       "<Figure size 432x288 with 2 Axes>"
      ]
     },
     "metadata": {
      "needs_background": "light"
     },
     "output_type": "display_data"
    }
   ],
   "source": [
    "# Dealer-Label\n",
    "dealer_label = [\"A\"]+list(range(2,11))\n",
    "\n",
    "player, dealer = env.get_player_dealer()\n",
    "\n",
    "# Plot\n",
    "plt.figure()\n",
    "arr = np.zeros((len(player),len(dealer),2))\n",
    "for (ix,x) in enumerate(dealer):\n",
    "  for (iy,y) in enumerate(player):\n",
    "    for j in range(2):\n",
    "      if x==11:\n",
    "        arr[iy,0,j] = ex.V[(y,x,j)]\n",
    "      else:\n",
    "        arr[iy,ix+1,j] = ex.V[(y,x,j)]        \n",
    "plt.subplot(1,2,1)\n",
    "plt.imshow(arr[:,:,0],origin=\"lower\",vmin=-1,vmax=1)\n",
    "plt.xticks(range(len(dealer_label)),dealer_label)\n",
    "plt.xlabel(\"Dealer\")\n",
    "plt.yticks(range(len(player)),player)\n",
    "plt.ylabel(\"Player\")\n",
    "plt.title(\"No usable ace\")\n",
    "plt.subplot(1,2,2)\n",
    "plt.imshow(arr[:,:,1],origin=\"lower\",vmin=-1,vmax=1)\n",
    "plt.xticks(range(len(dealer_label)),dealer_label)\n",
    "plt.xlabel(\"Dealer\")\n",
    "plt.yticks(range(len(player)),player)\n",
    "plt.ylabel(\"Player\")\n",
    "plt.title(\"Usable ace\")"
   ]
  },
  {
   "cell_type": "markdown",
   "metadata": {},
   "source": [
    "# Example 5.3 Solving Blackjack"
   ]
  },
  {
   "cell_type": "code",
   "execution_count": 65,
   "metadata": {},
   "outputs": [
    {
     "name": "stderr",
     "output_type": "stream",
     "text": [
      "100%|██████████| 5000000/5000000 [01:35<00:00, 52311.13it/s]\n"
     ]
    }
   ],
   "source": [
    "import experiment_mc_exploringstarts\n",
    "reload(experiment_mc_exploringstarts)\n",
    "reload(policy)\n",
    "\n",
    "env = env_blackjack.BlackjackEnvironment()\n",
    "pi0 = policy.DeterministicPolicy(env.states,env.actions,{s:[s[0]<20] for s in env.states})\n",
    "pi = policy.EpsSoft(env.states,env.actions,0.05,pi0)\n",
    "agent = agent_deterministic.DeterministicAgent()\n",
    "agent.agent_init({\"pi\":pi})\n",
    "ex = experiment_mc_exploringstarts.MC_ExploringStartsExperiment(env,agent)\n",
    "ex.experiment_init({\"n_episodes\":5e6})\n",
    "ex.train()"
   ]
  },
  {
   "cell_type": "code",
   "execution_count": 66,
   "metadata": {},
   "outputs": [
    {
     "data": {
      "text/plain": [
       "Text(0.5, 1.0, 'Usable ace')"
      ]
     },
     "execution_count": 66,
     "metadata": {},
     "output_type": "execute_result"
    },
    {
     "data": {
      "image/png": "[encoded data removed]",
      "text/plain": [
       "<Figure size 432x288 with 2 Axes>"
      ]
     },
     "metadata": {
      "needs_background": "light"
     },
     "output_type": "display_data"
    }
   ],
   "source": [
    "# Dealer-Label\n",
    "dealer_label = [\"A\"]+list(range(2,11))\n",
    "player, dealer = env.get_player_dealer()\n",
    "\n",
    "# Plot\n",
    "plt.figure()\n",
    "arr = np.zeros((len(player),len(dealer),2))\n",
    "for (ix,x) in enumerate(dealer):\n",
    "  for (iy,y) in enumerate(player):\n",
    "    for j in range(2):\n",
    "      s = (y,x,j)\n",
    "      if x==11:\n",
    "        arr[iy,0,j] = agent.pi.prob(0,s)>agent.pi.prob(1,s)\n",
    "      else:\n",
    "        arr[iy,ix+1,j] = agent.pi.prob(0,s)>agent.pi.prob(1,s)\n",
    "plt.subplot(1,2,1)\n",
    "plt.imshow(arr[:,:,0],origin=\"lower\",vmin=-1,vmax=1)\n",
    "plt.xticks(range(len(dealer_label)),dealer_label)\n",
    "plt.xlabel(\"Dealer\")\n",
    "plt.yticks(range(len(player)),player)\n",
    "plt.ylabel(\"Player\")\n",
    "plt.title(\"No usable ace\")\n",
    "plt.subplot(1,2,2)\n",
    "plt.imshow(arr[:,:,1],origin=\"lower\",vmin=-1,vmax=1)\n",
    "plt.xticks(range(len(dealer_label)),dealer_label)\n",
    "plt.xlabel(\"Dealer\")\n",
    "plt.yticks(range(len(player)),player)\n",
    "plt.ylabel(\"Player\")\n",
    "plt.title(\"Usable ace\")"
   ]
  },
  {
   "cell_type": "markdown",
   "metadata": {},
   "source": [
    "# Example 5.4 Off-policy Estimation of a Blackjack State Value"
   ]
  },
  {
   "cell_type": "code",
   "execution_count": 76,
   "metadata": {},
   "outputs": [
    {
     "name": "stderr",
     "output_type": "stream",
     "text": [
      "100%|██████████| 10000000/10000000 [00:45<00:00, 219831.64it/s]"
     ]
    },
    {
     "name": "stdout",
     "output_type": "stream",
     "text": [
      "-0.2773296\n"
     ]
    },
    {
     "name": "stderr",
     "output_type": "stream",
     "text": [
      "\n"
     ]
    }
   ],
   "source": [
    "import experiment_mc_exploringstarts\n",
    "reload(experiment_mc_exploringstarts)\n",
    "reload(policy)\n",
    "\n",
    "env = env_blackjack.BlackjackEnvironment()\n",
    "\n",
    "s0 = (13,2,1)\n",
    "n_episodes = int(1e8)\n",
    "G = 0\n",
    "for i in tqdm(range(n_episodes)):\n",
    "    s = s0\n",
    "    while s:\n",
    "        a = (s[0]<20)\n",
    "        r,s,_ = env.env_step(s,a)\n",
    "    G += r\n",
    "G0 = G / n_episodes\n",
    "print(\"My G0:\",G0)"
   ]
  },
  {
   "cell_type": "markdown",
   "metadata": {},
   "source": [
    "# Figure 5.3\n",
    "Weighted importance sampling produces lower error estimates of the value of a\n",
    "single blackjack state from off-policy episodes."
   ]
  },
  {
   "cell_type": "code",
   "execution_count": 83,
   "metadata": {},
   "outputs": [
    {
     "name": "stderr",
     "output_type": "stream",
     "text": [
      "100%|██████████| 500/500 [00:26<00:00, 19.10it/s]\n"
     ]
    },
    {
     "data": {
      "text/plain": [
       "[<matplotlib.lines.Line2D at 0x7fc7a7c10e10>]"
      ]
     },
     "execution_count": 83,
     "metadata": {},
     "output_type": "execute_result"
    },
    {
     "data": {
      "image/png": "[encoded data removed]",
      "text/plain": [
       "<Figure size 432x288 with 1 Axes>"
      ]
     },
     "metadata": {
      "needs_background": "light"
     },
     "output_type": "display_data"
    }
   ],
   "source": [
    "G0 = -0.27726 #From book\n",
    "\n",
    "#p = envDeterministicPolicy(env.states,env.actions,{s:[s[0]<20] for s in env.states})\n",
    "#agent = Agent(env.states,env.actions, p,alpha=0.005)\n",
    "\n",
    "s0 = (13,2,1)\n",
    "\n",
    "G0 = -0.27726\n",
    "\n",
    "# Now use behavorial policy\n",
    "def b(s):\n",
    "  return np.random.rand()<.5\n",
    "\n",
    "n_trials = 500\n",
    "n_episodes = int(1e4)\n",
    "ordinary = np.zeros((n_trials,n_episodes))\n",
    "weighted = np.zeros((n_trials,n_episodes))\n",
    "for trial in tqdm(range(n_trials)):\n",
    "  my_sum = 0\n",
    "  my_sum2 = 0\n",
    "  for i in range(n_episodes):\n",
    "    s = s0\n",
    "    episode = []\n",
    "    rho = 1\n",
    "    terminal = False\n",
    "    while not terminal:\n",
    "      a = b(s)\n",
    "      if a:\n",
    "        rho *= (s[0]<20) / (1/2) # Target policy prob. divided by behavorial policy prob.\n",
    "      else: \n",
    "        rho *= (s[0]>19) / (1/2) # Target policy prob. divided by behavorial policy prob.\n",
    "      r,s,terminal = env.env_step(s,a)\n",
    "    my_sum += rho*r\n",
    "    my_sum2 += rho\n",
    "    ordinary[trial,i] = my_sum / (i+1)\n",
    "    if my_sum2 > 0:\n",
    "      weighted[trial,i] = my_sum / my_sum2\n",
    "ordinary_mse = np.sum((ordinary-G0)**2,axis=0)/n_trials\n",
    "weighted_mse = np.sum((weighted-G0)**2,axis=0)/n_trials\n",
    "plt.semilogx(ordinary_mse,\"g\")\n",
    "plt.semilogx(weighted_mse,\"r\")\n"
   ]
  },
  {
   "cell_type": "markdown",
   "metadata": {},
   "source": [
    "# Figure 5.4 \n",
    "\n",
    "Ordinary importance sampling produces surprisingly unstable estimates on the\n",
    "one-state MDP shown inset (Example 5.5). The correct estimate here is 1 ($\\gamma$ = 1), and, even\n",
    "though this is the expected value of a sample return (after importance sampling), the variance\n",
    "of the samples is infinite, and the estimates do not converge to this value. These results are for\n",
    "off-policy first-visit MC."
   ]
  },
  {
   "cell_type": "code",
   "execution_count": null,
   "metadata": {},
   "outputs": [
    {
     "data": {
      "application/vnd.jupyter.widget-view+json": {
       "model_id": "5c51534d3b7b48c7a6c5a6fb10bafdcf",
       "version_major": 2,
       "version_minor": 0
      },
      "text/plain": [
       "  0%|          | 0/10 [00:00<?, ?it/s]"
      ]
     },
     "metadata": {},
     "output_type": "display_data"
    },
    {
     "data": {
      "application/vnd.jupyter.widget-view+json": {
       "model_id": "",
       "version_major": 2,
       "version_minor": 0
      },
      "text/plain": [
       "  0%|          | 0/1000000 [00:00<?, ?it/s]"
      ]
     },
     "metadata": {},
     "output_type": "display_data"
    },
    {
     "data": {
      "application/vnd.jupyter.widget-view+json": {
       "model_id": "",
       "version_major": 2,
       "version_minor": 0
      },
      "text/plain": [
       "  0%|          | 0/1000000 [00:00<?, ?it/s]"
      ]
     },
     "metadata": {},
     "output_type": "display_data"
    },
    {
     "data": {
      "application/vnd.jupyter.widget-view+json": {
       "model_id": "",
       "version_major": 2,
       "version_minor": 0
      },
      "text/plain": [
       "  0%|          | 0/1000000 [00:00<?, ?it/s]"
      ]
     },
     "metadata": {},
     "output_type": "display_data"
    },
    {
     "data": {
      "application/vnd.jupyter.widget-view+json": {
       "model_id": "",
       "version_major": 2,
       "version_minor": 0
      },
      "text/plain": [
       "  0%|          | 0/1000000 [00:00<?, ?it/s]"
      ]
     },
     "metadata": {},
     "output_type": "display_data"
    },
    {
     "data": {
      "application/vnd.jupyter.widget-view+json": {
       "model_id": "",
       "version_major": 2,
       "version_minor": 0
      },
      "text/plain": [
       "  0%|          | 0/1000000 [00:00<?, ?it/s]"
      ]
     },
     "metadata": {},
     "output_type": "display_data"
    },
    {
     "data": {
      "application/vnd.jupyter.widget-view+json": {
       "model_id": "",
       "version_major": 2,
       "version_minor": 0
      },
      "text/plain": [
       "  0%|          | 0/1000000 [00:00<?, ?it/s]"
      ]
     },
     "metadata": {},
     "output_type": "display_data"
    },
    {
     "data": {
      "application/vnd.jupyter.widget-view+json": {
       "model_id": "",
       "version_major": 2,
       "version_minor": 0
      },
      "text/plain": [
       "  0%|          | 0/1000000 [00:00<?, ?it/s]"
      ]
     },
     "metadata": {},
     "output_type": "display_data"
    },
    {
     "data": {
      "application/vnd.jupyter.widget-view+json": {
       "model_id": "",
       "version_major": 2,
       "version_minor": 0
      },
      "text/plain": [
       "  0%|          | 0/1000000 [00:00<?, ?it/s]"
      ]
     },
     "metadata": {},
     "output_type": "display_data"
    },
    {
     "data": {
      "application/vnd.jupyter.widget-view+json": {
       "model_id": "d7d91eae01d941aab81d67da05c768f7",
       "version_major": 2,
       "version_minor": 0
      },
      "text/plain": [
       "  0%|          | 0/1000000 [00:00<?, ?it/s]"
      ]
     },
     "metadata": {},
     "output_type": "display_data"
    }
   ],
   "source": [
    "npr.seed(0)\n",
    "\n",
    "n_trials = 10\n",
    "n_episodes = int(1e6)\n",
    "ordinary = np.zeros((n_episodes,n_trials))\n",
    "for trial in tqdm(range(n_trials)):\n",
    "  my_sum = 0\n",
    "  n_states = 0\n",
    "  n_visits = 1\n",
    "  for i in tqdm(range(n_episodes),leave=False):\n",
    "    rhor = 1\n",
    "    while True:\n",
    "      if npr.rand()<.5:\n",
    "        rhor = 0\n",
    "        break\n",
    "      rhor *= 2\n",
    "      if npr.rand()>0.9:\n",
    "        break   \n",
    "      n_visits += 1\n",
    "    my_sum += rhor\n",
    "    ordinary[i,trial] = my_sum / n_visits\n",
    "plt.semilogx(range(1,n_episodes+1),ordinary)\n",
    "plt.ylim(0,2)"
   ]
  },
  {
   "cell_type": "code",
   "execution_count": null,
   "metadata": {},
   "outputs": [],
   "source": []
  }
 ],
 "metadata": {
  "kernelspec": {
   "display_name": "Python 3",
   "language": "python",
   "name": "python3"
  },
  "language_info": {
   "codemirror_mode": {
    "name": "ipython",
    "version": 3
   },
   "file_extension": ".py",
   "mimetype": "text/x-python",
   "name": "python",
   "nbconvert_exporter": "python",
   "pygments_lexer": "ipython3",
   "version": "3.7.9"
  }
 },
 "nbformat": 4,
 "nbformat_minor": 4
}
