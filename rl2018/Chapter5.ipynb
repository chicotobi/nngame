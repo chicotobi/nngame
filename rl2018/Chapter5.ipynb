{
 "cells": [
  {
   "cell_type": "code",
   "execution_count": 1,
   "metadata": {},
   "outputs": [],
   "source": [
    "%matplotlib inline\n",
    "\n",
    "import numpy as np\n",
    "import tabulate as tb\n",
    "import numpy.random as npr\n",
    "import math\n",
    "import matplotlib.pyplot as plt\n",
    "\n",
    "import sys\n",
    "sys.path.append(\"/home/hofmann/nngame/package/src/rlbase/\")\n",
    "\n",
    "import env_blackjack\n",
    "import policy\n",
    "import agent_deterministic\n",
    "import experiment_mc_everyvisit\n",
    "import misc"
   ]
  },
  {
   "cell_type": "markdown",
   "metadata": {},
   "source": [
    "# Figure 5.1\n",
    "Approximate state-value functions for the blackjack policy that sticks only on 20 or 21, computed by Monte Carlo policy evaluation"
   ]
  },
  {
   "cell_type": "code",
   "execution_count": 2,
   "metadata": {},
   "outputs": [
    {
     "name": "stderr",
     "output_type": "stream",
     "text": [
      "100%|██████████| 500000/500000 [00:05<00:00, 93230.05it/s]\n"
     ]
    }
   ],
   "source": [
    "env = env_blackjack.BlackjackEnvironment()\n",
    "pi = policy.DeterministicPolicy(env.states,env.actions,{s:[s[0]<20] for s in env.states})\n",
    "agent = agent_deterministic.DeterministicAgent()\n",
    "agent.agent_init({\"pi\":pi})\n",
    "ex = experiment_mc_everyvisit.MC_EveryVisitExperiment(env,agent)\n",
    "ex.experiment_init({\"n_episodes\":500000})\n",
    "ex.train()"
   ]
  },
  {
   "cell_type": "code",
   "execution_count": 3,
   "metadata": {},
   "outputs": [
    {
     "data": {
      "text/plain": [
       "Text(0.5, 1.0, 'Usable ace')"
      ]
     },
     "execution_count": 3,
     "metadata": {},
     "output_type": "execute_result"
    },
    {
     "data": {
      "image/png": "[encoded data removed]",
      "text/plain": [
       "<Figure size 432x288 with 2 Axes>"
      ]
     },
     "metadata": {
      "needs_background": "light"
     },
     "output_type": "display_data"
    }
   ],
   "source": [
    "# Dealer-Label\n",
    "dealer_label = [\"A\"]+list(range(2,11))\n",
    "\n",
    "player, dealer = env.get_player_dealer()\n",
    "\n",
    "# Plot\n",
    "plt.figure()\n",
    "arr = np.zeros((len(player),len(dealer),2))\n",
    "for (ix,x) in enumerate(dealer):\n",
    "  for (iy,y) in enumerate(player):\n",
    "    for j in range(2):\n",
    "      if x==11:\n",
    "        arr[iy,0,j] = ex.V[(y,x,j)]\n",
    "      else:\n",
    "        arr[iy,ix+1,j] = ex.V[(y,x,j)]        \n",
    "plt.subplot(1,2,1)\n",
    "plt.imshow(arr[:,:,0],origin=\"lower\",vmin=-1,vmax=1)\n",
    "plt.xticks(range(len(dealer_label)),dealer_label)\n",
    "plt.xlabel(\"Dealer\")\n",
    "plt.yticks(range(len(player)),player)\n",
    "plt.ylabel(\"Player\")\n",
    "plt.title(\"No usable ace\")\n",
    "plt.subplot(1,2,2)\n",
    "plt.imshow(arr[:,:,1],origin=\"lower\",vmin=-1,vmax=1)\n",
    "plt.xticks(range(len(dealer_label)),dealer_label)\n",
    "plt.xlabel(\"Dealer\")\n",
    "plt.yticks(range(len(player)),player)\n",
    "plt.ylabel(\"Player\")\n",
    "plt.title(\"Usable ace\")"
   ]
  },
  {
   "cell_type": "code",
   "execution_count": null,
   "metadata": {},
   "outputs": [],
   "source": []
  }
 ],
 "metadata": {
  "kernelspec": {
   "display_name": "Python 3",
   "language": "python",
   "name": "python3"
  },
  "language_info": {
   "codemirror_mode": {
    "name": "ipython",
    "version": 3
   },
   "file_extension": ".py",
   "mimetype": "text/x-python",
   "name": "python",
   "nbconvert_exporter": "python",
   "pygments_lexer": "ipython3",
   "version": "3.7.9"
  }
 },
 "nbformat": 4,
 "nbformat_minor": 4
}
